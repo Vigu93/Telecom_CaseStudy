{
 "cells": [
  {
   "cell_type": "markdown",
   "metadata": {},
   "source": [
    "# Telecom Churn - ML Group Case Study"
   ]
  },
  {
   "cell_type": "markdown",
   "metadata": {},
   "source": [
    "### Business Problem Overview\n",
    "\n",
    "    In the telecom industry, customers are able to choose from multiple service providers and actively switch \n",
    "    from one operator to another. \n",
    "    In this highly competitive market, the telecommunications industry experiences \n",
    "    an average of 15-25% annual churn rate. \n",
    "\n",
    "    Given the fact that it costs 5-10 times more to acquire a new customer than to retain an existing one, \n",
    "    customer retention has now become even more important than customer acquisition."
   ]
  },
  {
   "cell_type": "markdown",
   "metadata": {},
   "source": [
    "### 1. Importing Libraries:-"
   ]
  },
  {
   "cell_type": "code",
   "execution_count": 1,
   "metadata": {},
   "outputs": [
    {
     "name": "stderr",
     "output_type": "stream",
     "text": [
      "C:\\ProgramData\\Anaconda3\\lib\\site-packages\\sklearn\\cross_validation.py:41: DeprecationWarning: This module was deprecated in version 0.18 in favor of the model_selection module into which all the refactored classes and functions are moved. Also note that the interface of the new CV iterators are different from that of this module. This module will be removed in 0.20.\n",
      "  \"This module will be removed in 0.20.\", DeprecationWarning)\n",
      "C:\\ProgramData\\Anaconda3\\lib\\site-packages\\pandas_profiling\\plot.py:15: UserWarning: \n",
      "This call to matplotlib.use() has no effect because the backend has already\n",
      "been chosen; matplotlib.use() must be called *before* pylab, matplotlib.pyplot,\n",
      "or matplotlib.backends is imported for the first time.\n",
      "\n",
      "The backend was *originally* set to 'module://ipykernel.pylab.backend_inline' by the following code:\n",
      "  File \"C:\\ProgramData\\Anaconda3\\lib\\runpy.py\", line 193, in _run_module_as_main\n",
      "    \"__main__\", mod_spec)\n",
      "  File \"C:\\ProgramData\\Anaconda3\\lib\\runpy.py\", line 85, in _run_code\n",
      "    exec(code, run_globals)\n",
      "  File \"C:\\ProgramData\\Anaconda3\\lib\\site-packages\\ipykernel_launcher.py\", line 16, in <module>\n",
      "    app.launch_new_instance()\n",
      "  File \"C:\\ProgramData\\Anaconda3\\lib\\site-packages\\traitlets\\config\\application.py\", line 658, in launch_instance\n",
      "    app.start()\n",
      "  File \"C:\\ProgramData\\Anaconda3\\lib\\site-packages\\ipykernel\\kernelapp.py\", line 478, in start\n",
      "    self.io_loop.start()\n",
      "  File \"C:\\ProgramData\\Anaconda3\\lib\\site-packages\\zmq\\eventloop\\ioloop.py\", line 177, in start\n",
      "    super(ZMQIOLoop, self).start()\n",
      "  File \"C:\\ProgramData\\Anaconda3\\lib\\site-packages\\tornado\\ioloop.py\", line 888, in start\n",
      "    handler_func(fd_obj, events)\n",
      "  File \"C:\\ProgramData\\Anaconda3\\lib\\site-packages\\tornado\\stack_context.py\", line 277, in null_wrapper\n",
      "    return fn(*args, **kwargs)\n",
      "  File \"C:\\ProgramData\\Anaconda3\\lib\\site-packages\\zmq\\eventloop\\zmqstream.py\", line 440, in _handle_events\n",
      "    self._handle_recv()\n",
      "  File \"C:\\ProgramData\\Anaconda3\\lib\\site-packages\\zmq\\eventloop\\zmqstream.py\", line 472, in _handle_recv\n",
      "    self._run_callback(callback, msg)\n",
      "  File \"C:\\ProgramData\\Anaconda3\\lib\\site-packages\\zmq\\eventloop\\zmqstream.py\", line 414, in _run_callback\n",
      "    callback(*args, **kwargs)\n",
      "  File \"C:\\ProgramData\\Anaconda3\\lib\\site-packages\\tornado\\stack_context.py\", line 277, in null_wrapper\n",
      "    return fn(*args, **kwargs)\n",
      "  File \"C:\\ProgramData\\Anaconda3\\lib\\site-packages\\ipykernel\\kernelbase.py\", line 283, in dispatcher\n",
      "    return self.dispatch_shell(stream, msg)\n",
      "  File \"C:\\ProgramData\\Anaconda3\\lib\\site-packages\\ipykernel\\kernelbase.py\", line 233, in dispatch_shell\n",
      "    handler(stream, idents, msg)\n",
      "  File \"C:\\ProgramData\\Anaconda3\\lib\\site-packages\\ipykernel\\kernelbase.py\", line 399, in execute_request\n",
      "    user_expressions, allow_stdin)\n",
      "  File \"C:\\ProgramData\\Anaconda3\\lib\\site-packages\\ipykernel\\ipkernel.py\", line 208, in do_execute\n",
      "    res = shell.run_cell(code, store_history=store_history, silent=silent)\n",
      "  File \"C:\\ProgramData\\Anaconda3\\lib\\site-packages\\ipykernel\\zmqshell.py\", line 537, in run_cell\n",
      "    return super(ZMQInteractiveShell, self).run_cell(*args, **kwargs)\n",
      "  File \"C:\\ProgramData\\Anaconda3\\lib\\site-packages\\IPython\\core\\interactiveshell.py\", line 2728, in run_cell\n",
      "    interactivity=interactivity, compiler=compiler, result=result)\n",
      "  File \"C:\\ProgramData\\Anaconda3\\lib\\site-packages\\IPython\\core\\interactiveshell.py\", line 2850, in run_ast_nodes\n",
      "    if self.run_code(code, result):\n",
      "  File \"C:\\ProgramData\\Anaconda3\\lib\\site-packages\\IPython\\core\\interactiveshell.py\", line 2910, in run_code\n",
      "    exec(code_obj, self.user_global_ns, self.user_ns)\n",
      "  File \"<ipython-input-1-0f39c24d0e29>\", line 3, in <module>\n",
      "    import seaborn as sns\n",
      "  File \"C:\\ProgramData\\Anaconda3\\lib\\site-packages\\seaborn\\__init__.py\", line 6, in <module>\n",
      "    from .rcmod import *\n",
      "  File \"C:\\ProgramData\\Anaconda3\\lib\\site-packages\\seaborn\\rcmod.py\", line 8, in <module>\n",
      "    from . import palettes, _orig_rc_params\n",
      "  File \"C:\\ProgramData\\Anaconda3\\lib\\site-packages\\seaborn\\palettes.py\", line 12, in <module>\n",
      "    from .utils import desaturate, set_hls_values, get_color_cycle\n",
      "  File \"C:\\ProgramData\\Anaconda3\\lib\\site-packages\\seaborn\\utils.py\", line 11, in <module>\n",
      "    import matplotlib.pyplot as plt\n",
      "  File \"C:\\ProgramData\\Anaconda3\\lib\\site-packages\\matplotlib\\pyplot.py\", line 72, in <module>\n",
      "    from matplotlib.backends import pylab_setup\n",
      "  File \"C:\\ProgramData\\Anaconda3\\lib\\site-packages\\matplotlib\\backends\\__init__.py\", line 14, in <module>\n",
      "    line for line in traceback.format_stack()\n",
      "\n",
      "\n",
      "  matplotlib.use(BACKEND)\n"
     ]
    }
   ],
   "source": [
    "import pandas as pd\n",
    "import numpy as np\n",
    "import seaborn as sns\n",
    "import matplotlib.pyplot as plt\n",
    "import statsmodels.formula.api as sm\n",
    "import scipy.stats as stats\n",
    "from matplotlib.backends.backend_pdf import PdfPages\n",
    "from sklearn.cross_validation import train_test_split\n",
    "from sklearn import metrics\n",
    "from sklearn.linear_model import LogisticRegression\n",
    "from statsmodels.stats.outliers_influence import variance_inflation_factor\n",
    "from patsy import dmatrices\n",
    "import pandas_profiling\n",
    "%matplotlib inline"
   ]
  },
  {
   "cell_type": "markdown",
   "metadata": {},
   "source": [
    "### 2. Data Preparation:-"
   ]
  },
  {
   "cell_type": "markdown",
   "metadata": {},
   "source": [
    "#### Data Understanding:-\n",
    "\n",
    "    In this project we will analyse customer-level data of a leading telecom firm, build predictive models \n",
    "    to identify customers at high risk of churn and identify the main indicators of churn.\n",
    "\n",
    "    Features of the dataset at a glance:-\n",
    "\n",
    "    A. There are 226 columns and 0 to 99999 entries in each columns.\n",
    "    B. There of 179 columns of float64 type , 35 columns of int64 type and 12 columns of object type. \n"
   ]
  },
  {
   "cell_type": "code",
   "execution_count": 2,
   "metadata": {},
   "outputs": [],
   "source": [
    "### Importing data\n",
    "telecom_data= pd.read_csv(\"telecom_churn_data.csv\")"
   ]
  },
  {
   "cell_type": "code",
   "execution_count": 3,
   "metadata": {},
   "outputs": [
    {
     "data": {
      "text/html": [
       "<div>\n",
       "<style scoped>\n",
       "    .dataframe tbody tr th:only-of-type {\n",
       "        vertical-align: middle;\n",
       "    }\n",
       "\n",
       "    .dataframe tbody tr th {\n",
       "        vertical-align: top;\n",
       "    }\n",
       "\n",
       "    .dataframe thead th {\n",
       "        text-align: right;\n",
       "    }\n",
       "</style>\n",
       "<table border=\"1\" class=\"dataframe\">\n",
       "  <thead>\n",
       "    <tr style=\"text-align: right;\">\n",
       "      <th></th>\n",
       "      <th>mobile_number</th>\n",
       "      <th>circle_id</th>\n",
       "      <th>loc_og_t2o_mou</th>\n",
       "      <th>std_og_t2o_mou</th>\n",
       "      <th>loc_ic_t2o_mou</th>\n",
       "      <th>arpu_6</th>\n",
       "      <th>arpu_7</th>\n",
       "      <th>arpu_8</th>\n",
       "      <th>arpu_9</th>\n",
       "      <th>onnet_mou_6</th>\n",
       "      <th>...</th>\n",
       "      <th>sachet_3g_9</th>\n",
       "      <th>fb_user_6</th>\n",
       "      <th>fb_user_7</th>\n",
       "      <th>fb_user_8</th>\n",
       "      <th>fb_user_9</th>\n",
       "      <th>aon</th>\n",
       "      <th>aug_vbc_3g</th>\n",
       "      <th>jul_vbc_3g</th>\n",
       "      <th>jun_vbc_3g</th>\n",
       "      <th>sep_vbc_3g</th>\n",
       "    </tr>\n",
       "  </thead>\n",
       "  <tbody>\n",
       "    <tr>\n",
       "      <th>count</th>\n",
       "      <td>9.999900e+04</td>\n",
       "      <td>99999.0</td>\n",
       "      <td>98981.0</td>\n",
       "      <td>98981.0</td>\n",
       "      <td>98981.0</td>\n",
       "      <td>99999.000000</td>\n",
       "      <td>99999.000000</td>\n",
       "      <td>99999.000000</td>\n",
       "      <td>99999.000000</td>\n",
       "      <td>96062.000000</td>\n",
       "      <td>...</td>\n",
       "      <td>99999.000000</td>\n",
       "      <td>25153.000000</td>\n",
       "      <td>25571.000000</td>\n",
       "      <td>26339.000000</td>\n",
       "      <td>25922.000000</td>\n",
       "      <td>99999.000000</td>\n",
       "      <td>99999.000000</td>\n",
       "      <td>99999.000000</td>\n",
       "      <td>99999.000000</td>\n",
       "      <td>99999.000000</td>\n",
       "    </tr>\n",
       "    <tr>\n",
       "      <th>mean</th>\n",
       "      <td>7.001207e+09</td>\n",
       "      <td>109.0</td>\n",
       "      <td>0.0</td>\n",
       "      <td>0.0</td>\n",
       "      <td>0.0</td>\n",
       "      <td>282.987358</td>\n",
       "      <td>278.536648</td>\n",
       "      <td>279.154731</td>\n",
       "      <td>261.645069</td>\n",
       "      <td>132.395875</td>\n",
       "      <td>...</td>\n",
       "      <td>0.084581</td>\n",
       "      <td>0.914404</td>\n",
       "      <td>0.908764</td>\n",
       "      <td>0.890808</td>\n",
       "      <td>0.860968</td>\n",
       "      <td>1219.854749</td>\n",
       "      <td>68.170248</td>\n",
       "      <td>66.839062</td>\n",
       "      <td>60.021204</td>\n",
       "      <td>3.299373</td>\n",
       "    </tr>\n",
       "    <tr>\n",
       "      <th>std</th>\n",
       "      <td>6.956694e+05</td>\n",
       "      <td>0.0</td>\n",
       "      <td>0.0</td>\n",
       "      <td>0.0</td>\n",
       "      <td>0.0</td>\n",
       "      <td>328.439770</td>\n",
       "      <td>338.156291</td>\n",
       "      <td>344.474791</td>\n",
       "      <td>341.998630</td>\n",
       "      <td>297.207406</td>\n",
       "      <td>...</td>\n",
       "      <td>0.650457</td>\n",
       "      <td>0.279772</td>\n",
       "      <td>0.287950</td>\n",
       "      <td>0.311885</td>\n",
       "      <td>0.345987</td>\n",
       "      <td>954.733842</td>\n",
       "      <td>267.580450</td>\n",
       "      <td>271.201856</td>\n",
       "      <td>253.938223</td>\n",
       "      <td>32.408353</td>\n",
       "    </tr>\n",
       "    <tr>\n",
       "      <th>min</th>\n",
       "      <td>7.000000e+09</td>\n",
       "      <td>109.0</td>\n",
       "      <td>0.0</td>\n",
       "      <td>0.0</td>\n",
       "      <td>0.0</td>\n",
       "      <td>-2258.709000</td>\n",
       "      <td>-2014.045000</td>\n",
       "      <td>-945.808000</td>\n",
       "      <td>-1899.505000</td>\n",
       "      <td>0.000000</td>\n",
       "      <td>...</td>\n",
       "      <td>0.000000</td>\n",
       "      <td>0.000000</td>\n",
       "      <td>0.000000</td>\n",
       "      <td>0.000000</td>\n",
       "      <td>0.000000</td>\n",
       "      <td>180.000000</td>\n",
       "      <td>0.000000</td>\n",
       "      <td>0.000000</td>\n",
       "      <td>0.000000</td>\n",
       "      <td>0.000000</td>\n",
       "    </tr>\n",
       "    <tr>\n",
       "      <th>25%</th>\n",
       "      <td>7.000606e+09</td>\n",
       "      <td>109.0</td>\n",
       "      <td>0.0</td>\n",
       "      <td>0.0</td>\n",
       "      <td>0.0</td>\n",
       "      <td>93.411500</td>\n",
       "      <td>86.980500</td>\n",
       "      <td>84.126000</td>\n",
       "      <td>62.685000</td>\n",
       "      <td>7.380000</td>\n",
       "      <td>...</td>\n",
       "      <td>0.000000</td>\n",
       "      <td>1.000000</td>\n",
       "      <td>1.000000</td>\n",
       "      <td>1.000000</td>\n",
       "      <td>1.000000</td>\n",
       "      <td>467.000000</td>\n",
       "      <td>0.000000</td>\n",
       "      <td>0.000000</td>\n",
       "      <td>0.000000</td>\n",
       "      <td>0.000000</td>\n",
       "    </tr>\n",
       "    <tr>\n",
       "      <th>50%</th>\n",
       "      <td>7.001205e+09</td>\n",
       "      <td>109.0</td>\n",
       "      <td>0.0</td>\n",
       "      <td>0.0</td>\n",
       "      <td>0.0</td>\n",
       "      <td>197.704000</td>\n",
       "      <td>191.640000</td>\n",
       "      <td>192.080000</td>\n",
       "      <td>176.849000</td>\n",
       "      <td>34.310000</td>\n",
       "      <td>...</td>\n",
       "      <td>0.000000</td>\n",
       "      <td>1.000000</td>\n",
       "      <td>1.000000</td>\n",
       "      <td>1.000000</td>\n",
       "      <td>1.000000</td>\n",
       "      <td>863.000000</td>\n",
       "      <td>0.000000</td>\n",
       "      <td>0.000000</td>\n",
       "      <td>0.000000</td>\n",
       "      <td>0.000000</td>\n",
       "    </tr>\n",
       "    <tr>\n",
       "      <th>75%</th>\n",
       "      <td>7.001812e+09</td>\n",
       "      <td>109.0</td>\n",
       "      <td>0.0</td>\n",
       "      <td>0.0</td>\n",
       "      <td>0.0</td>\n",
       "      <td>371.060000</td>\n",
       "      <td>365.344500</td>\n",
       "      <td>369.370500</td>\n",
       "      <td>353.466500</td>\n",
       "      <td>118.740000</td>\n",
       "      <td>...</td>\n",
       "      <td>0.000000</td>\n",
       "      <td>1.000000</td>\n",
       "      <td>1.000000</td>\n",
       "      <td>1.000000</td>\n",
       "      <td>1.000000</td>\n",
       "      <td>1807.500000</td>\n",
       "      <td>0.000000</td>\n",
       "      <td>0.000000</td>\n",
       "      <td>0.000000</td>\n",
       "      <td>0.000000</td>\n",
       "    </tr>\n",
       "    <tr>\n",
       "      <th>max</th>\n",
       "      <td>7.002411e+09</td>\n",
       "      <td>109.0</td>\n",
       "      <td>0.0</td>\n",
       "      <td>0.0</td>\n",
       "      <td>0.0</td>\n",
       "      <td>27731.088000</td>\n",
       "      <td>35145.834000</td>\n",
       "      <td>33543.624000</td>\n",
       "      <td>38805.617000</td>\n",
       "      <td>7376.710000</td>\n",
       "      <td>...</td>\n",
       "      <td>49.000000</td>\n",
       "      <td>1.000000</td>\n",
       "      <td>1.000000</td>\n",
       "      <td>1.000000</td>\n",
       "      <td>1.000000</td>\n",
       "      <td>4337.000000</td>\n",
       "      <td>12916.220000</td>\n",
       "      <td>9165.600000</td>\n",
       "      <td>11166.210000</td>\n",
       "      <td>2618.570000</td>\n",
       "    </tr>\n",
       "  </tbody>\n",
       "</table>\n",
       "<p>8 rows × 214 columns</p>\n",
       "</div>"
      ],
      "text/plain": [
       "       mobile_number  circle_id  loc_og_t2o_mou  std_og_t2o_mou  \\\n",
       "count   9.999900e+04    99999.0         98981.0         98981.0   \n",
       "mean    7.001207e+09      109.0             0.0             0.0   \n",
       "std     6.956694e+05        0.0             0.0             0.0   \n",
       "min     7.000000e+09      109.0             0.0             0.0   \n",
       "25%     7.000606e+09      109.0             0.0             0.0   \n",
       "50%     7.001205e+09      109.0             0.0             0.0   \n",
       "75%     7.001812e+09      109.0             0.0             0.0   \n",
       "max     7.002411e+09      109.0             0.0             0.0   \n",
       "\n",
       "       loc_ic_t2o_mou        arpu_6        arpu_7        arpu_8        arpu_9  \\\n",
       "count         98981.0  99999.000000  99999.000000  99999.000000  99999.000000   \n",
       "mean              0.0    282.987358    278.536648    279.154731    261.645069   \n",
       "std               0.0    328.439770    338.156291    344.474791    341.998630   \n",
       "min               0.0  -2258.709000  -2014.045000   -945.808000  -1899.505000   \n",
       "25%               0.0     93.411500     86.980500     84.126000     62.685000   \n",
       "50%               0.0    197.704000    191.640000    192.080000    176.849000   \n",
       "75%               0.0    371.060000    365.344500    369.370500    353.466500   \n",
       "max               0.0  27731.088000  35145.834000  33543.624000  38805.617000   \n",
       "\n",
       "        onnet_mou_6      ...        sachet_3g_9     fb_user_6     fb_user_7  \\\n",
       "count  96062.000000      ...       99999.000000  25153.000000  25571.000000   \n",
       "mean     132.395875      ...           0.084581      0.914404      0.908764   \n",
       "std      297.207406      ...           0.650457      0.279772      0.287950   \n",
       "min        0.000000      ...           0.000000      0.000000      0.000000   \n",
       "25%        7.380000      ...           0.000000      1.000000      1.000000   \n",
       "50%       34.310000      ...           0.000000      1.000000      1.000000   \n",
       "75%      118.740000      ...           0.000000      1.000000      1.000000   \n",
       "max     7376.710000      ...          49.000000      1.000000      1.000000   \n",
       "\n",
       "          fb_user_8     fb_user_9           aon    aug_vbc_3g    jul_vbc_3g  \\\n",
       "count  26339.000000  25922.000000  99999.000000  99999.000000  99999.000000   \n",
       "mean       0.890808      0.860968   1219.854749     68.170248     66.839062   \n",
       "std        0.311885      0.345987    954.733842    267.580450    271.201856   \n",
       "min        0.000000      0.000000    180.000000      0.000000      0.000000   \n",
       "25%        1.000000      1.000000    467.000000      0.000000      0.000000   \n",
       "50%        1.000000      1.000000    863.000000      0.000000      0.000000   \n",
       "75%        1.000000      1.000000   1807.500000      0.000000      0.000000   \n",
       "max        1.000000      1.000000   4337.000000  12916.220000   9165.600000   \n",
       "\n",
       "         jun_vbc_3g    sep_vbc_3g  \n",
       "count  99999.000000  99999.000000  \n",
       "mean      60.021204      3.299373  \n",
       "std      253.938223     32.408353  \n",
       "min        0.000000      0.000000  \n",
       "25%        0.000000      0.000000  \n",
       "50%        0.000000      0.000000  \n",
       "75%        0.000000      0.000000  \n",
       "max    11166.210000   2618.570000  \n",
       "\n",
       "[8 rows x 214 columns]"
      ]
     },
     "execution_count": 3,
     "metadata": {},
     "output_type": "execute_result"
    }
   ],
   "source": [
    "telecom_data.describe()"
   ]
  },
  {
   "attachments": {
    "image.png": {
     "image/png": "[encoded data removed]"
    }
   },
   "cell_type": "markdown",
   "metadata": {},
   "source": [
    "### Data Dictionary:-\n",
    "\n",
    "![image.png](attachment:image.png)"
   ]
  },
  {
   "cell_type": "code",
   "execution_count": 4,
   "metadata": {},
   "outputs": [
    {
     "data": {
      "text/plain": [
       "mobile_number               0\n",
       "circle_id                   0\n",
       "loc_og_t2o_mou           1018\n",
       "std_og_t2o_mou           1018\n",
       "loc_ic_t2o_mou           1018\n",
       "last_date_of_month_6        0\n",
       "last_date_of_month_7      601\n",
       "last_date_of_month_8     1100\n",
       "last_date_of_month_9     1659\n",
       "arpu_6                      0\n",
       "arpu_7                      0\n",
       "arpu_8                      0\n",
       "arpu_9                      0\n",
       "onnet_mou_6              3937\n",
       "onnet_mou_7              3859\n",
       "onnet_mou_8              5378\n",
       "onnet_mou_9              7745\n",
       "offnet_mou_6             3937\n",
       "offnet_mou_7             3859\n",
       "offnet_mou_8             5378\n",
       "offnet_mou_9             7745\n",
       "roam_ic_mou_6            3937\n",
       "roam_ic_mou_7            3859\n",
       "roam_ic_mou_8            5378\n",
       "roam_ic_mou_9            7745\n",
       "roam_og_mou_6            3937\n",
       "roam_og_mou_7            3859\n",
       "roam_og_mou_8            5378\n",
       "roam_og_mou_9            7745\n",
       "loc_og_t2t_mou_6         3937\n",
       "                        ...  \n",
       "arpu_2g_9               74077\n",
       "night_pck_user_6        74846\n",
       "night_pck_user_7        74428\n",
       "night_pck_user_8        73660\n",
       "night_pck_user_9        74077\n",
       "monthly_2g_6                0\n",
       "monthly_2g_7                0\n",
       "monthly_2g_8                0\n",
       "monthly_2g_9                0\n",
       "sachet_2g_6                 0\n",
       "sachet_2g_7                 0\n",
       "sachet_2g_8                 0\n",
       "sachet_2g_9                 0\n",
       "monthly_3g_6                0\n",
       "monthly_3g_7                0\n",
       "monthly_3g_8                0\n",
       "monthly_3g_9                0\n",
       "sachet_3g_6                 0\n",
       "sachet_3g_7                 0\n",
       "sachet_3g_8                 0\n",
       "sachet_3g_9                 0\n",
       "fb_user_6               74846\n",
       "fb_user_7               74428\n",
       "fb_user_8               73660\n",
       "fb_user_9               74077\n",
       "aon                         0\n",
       "aug_vbc_3g                  0\n",
       "jul_vbc_3g                  0\n",
       "jun_vbc_3g                  0\n",
       "sep_vbc_3g                  0\n",
       "Length: 226, dtype: int64"
      ]
     },
     "execution_count": 4,
     "metadata": {},
     "output_type": "execute_result"
    }
   ],
   "source": [
    "# summarising number of missing values in each column\n",
    "telecom_data.isnull().sum()"
   ]
  },
  {
   "cell_type": "code",
   "execution_count": 5,
   "metadata": {},
   "outputs": [
    {
     "data": {
      "text/plain": [
       "mobile_number            0.0\n",
       "circle_id                0.0\n",
       "loc_og_t2o_mou           1.0\n",
       "std_og_t2o_mou           1.0\n",
       "loc_ic_t2o_mou           1.0\n",
       "last_date_of_month_6     0.0\n",
       "last_date_of_month_7     1.0\n",
       "last_date_of_month_8     1.0\n",
       "last_date_of_month_9     2.0\n",
       "arpu_6                   0.0\n",
       "arpu_7                   0.0\n",
       "arpu_8                   0.0\n",
       "arpu_9                   0.0\n",
       "onnet_mou_6              4.0\n",
       "onnet_mou_7              4.0\n",
       "onnet_mou_8              5.0\n",
       "onnet_mou_9              8.0\n",
       "offnet_mou_6             4.0\n",
       "offnet_mou_7             4.0\n",
       "offnet_mou_8             5.0\n",
       "offnet_mou_9             8.0\n",
       "roam_ic_mou_6            4.0\n",
       "roam_ic_mou_7            4.0\n",
       "roam_ic_mou_8            5.0\n",
       "roam_ic_mou_9            8.0\n",
       "roam_og_mou_6            4.0\n",
       "roam_og_mou_7            4.0\n",
       "roam_og_mou_8            5.0\n",
       "roam_og_mou_9            8.0\n",
       "loc_og_t2t_mou_6         4.0\n",
       "                        ... \n",
       "arpu_2g_9               74.0\n",
       "night_pck_user_6        75.0\n",
       "night_pck_user_7        74.0\n",
       "night_pck_user_8        74.0\n",
       "night_pck_user_9        74.0\n",
       "monthly_2g_6             0.0\n",
       "monthly_2g_7             0.0\n",
       "monthly_2g_8             0.0\n",
       "monthly_2g_9             0.0\n",
       "sachet_2g_6              0.0\n",
       "sachet_2g_7              0.0\n",
       "sachet_2g_8              0.0\n",
       "sachet_2g_9              0.0\n",
       "monthly_3g_6             0.0\n",
       "monthly_3g_7             0.0\n",
       "monthly_3g_8             0.0\n",
       "monthly_3g_9             0.0\n",
       "sachet_3g_6              0.0\n",
       "sachet_3g_7              0.0\n",
       "sachet_3g_8              0.0\n",
       "sachet_3g_9              0.0\n",
       "fb_user_6               75.0\n",
       "fb_user_7               74.0\n",
       "fb_user_8               74.0\n",
       "fb_user_9               74.0\n",
       "aon                      0.0\n",
       "aug_vbc_3g               0.0\n",
       "jul_vbc_3g               0.0\n",
       "jun_vbc_3g               0.0\n",
       "sep_vbc_3g               0.0\n",
       "Length: 226, dtype: float64"
      ]
     },
     "execution_count": 5,
     "metadata": {},
     "output_type": "execute_result"
    }
   ],
   "source": [
    "# percentage of missing values in each column\n",
    "round(telecom_data.isnull().sum()/len(telecom_data.index), 2)*100"
   ]
  },
  {
   "cell_type": "markdown",
   "metadata": {},
   "source": [
    "let's check whether some rows have a large number of missing values."
   ]
  },
  {
   "cell_type": "code",
   "execution_count": 6,
   "metadata": {},
   "outputs": [
    {
     "data": {
      "text/plain": [
       "0         97\n",
       "1         20\n",
       "2         30\n",
       "3         40\n",
       "4         30\n",
       "5         40\n",
       "6         40\n",
       "7         69\n",
       "8         20\n",
       "9         30\n",
       "10        49\n",
       "11        31\n",
       "12        40\n",
       "13        30\n",
       "14        40\n",
       "15        69\n",
       "16        40\n",
       "17        40\n",
       "18        40\n",
       "19        10\n",
       "20        40\n",
       "21        40\n",
       "22        40\n",
       "23        10\n",
       "24        40\n",
       "25        40\n",
       "26        40\n",
       "27        40\n",
       "28        30\n",
       "29        69\n",
       "        ... \n",
       "99969     20\n",
       "99970     10\n",
       "99971     40\n",
       "99972     30\n",
       "99973     41\n",
       "99974     40\n",
       "99975     40\n",
       "99976     40\n",
       "99977     40\n",
       "99978    162\n",
       "99979     40\n",
       "99980     10\n",
       "99981     11\n",
       "99982     10\n",
       "99983     99\n",
       "99984      0\n",
       "99985     41\n",
       "99986      0\n",
       "99987     30\n",
       "99988     10\n",
       "99989     40\n",
       "99990     30\n",
       "99991     40\n",
       "99992     40\n",
       "99993    164\n",
       "99994     40\n",
       "99995     40\n",
       "99996    118\n",
       "99997      0\n",
       "99998    120\n",
       "Length: 99999, dtype: int64"
      ]
     },
     "execution_count": 6,
     "metadata": {},
     "output_type": "execute_result"
    }
   ],
   "source": [
    "# missing values in rows\n",
    "telecom_data.isnull().sum(axis=1)"
   ]
  },
  {
   "cell_type": "markdown",
   "metadata": {},
   "source": [
    "### Filter high-value customers -\n",
    "\n",
    "    Defination of high-value customers as follows:-\n",
    "    Those who have recharged with an amount more than or equal to X, where X is the 70th percentile \n",
    "    of the average recharge amount in the first two months (the good phase)."
   ]
  },
  {
   "cell_type": "markdown",
   "metadata": {},
   "source": [
    "#### Note: - High value customer has been filtered from follwing columns -\n",
    "    \n",
    "    'total_rech_amt_6' - Total recharge amount (talktime) for the month of 6\n",
    "    'total_rech_amt_7' - Total recharge amount (talktime) for the month of 7\n",
    "    \n",
    "    'total_rech_data_6' - Count of recharge amount (data) for the month of 6\n",
    "    'total_rech_data_7' - Count of recharge amount (data) for the month of 7\n",
    "    \n",
    "    'av_rech_amt_data_6' - Avg. of recharge amount (data) for the month of 6\n",
    "    'av_rech_amt_data_7' - Avg. of recharge amount (data) for the month of 7\n",
    "\n",
    "    Total recharge amount per month ==> total_rech_amt_mnth + (total_rech_data_mnth * av_rech_amt_data_mnth )"
   ]
  },
  {
   "cell_type": "code",
   "execution_count": 7,
   "metadata": {},
   "outputs": [],
   "source": [
    "#replacing null to avoid compulational issue --\n",
    "telecom_data[['total_rech_amt_6','total_rech_amt_7','total_rech_amt_8','total_rech_data_6','total_rech_data_7','total_rech_data_8','av_rech_amt_data_6','av_rech_amt_data_7','av_rech_amt_data_8']] =  telecom_data[['total_rech_amt_6','total_rech_amt_7','total_rech_amt_8','total_rech_data_6','total_rech_data_7','total_rech_data_8','av_rech_amt_data_6','av_rech_amt_data_7','av_rech_amt_data_8']].replace(np.nan, 0, regex=True)"
   ]
  },
  {
   "cell_type": "code",
   "execution_count": 8,
   "metadata": {},
   "outputs": [],
   "source": [
    "## Creating total amount KPI for Data:-\n",
    "\n",
    "telecom_data['total_rech_amt_data_6'] = telecom_data.apply(lambda x: (x['total_rech_data_6']*x['av_rech_amt_data_6']),axis =1)\n",
    "telecom_data['total_rech_amt_data_7'] = telecom_data.apply(lambda x: (x['total_rech_data_7']*x['av_rech_amt_data_7']),axis =1)"
   ]
  },
  {
   "cell_type": "code",
   "execution_count": 9,
   "metadata": {},
   "outputs": [],
   "source": [
    "## Creating average amount KPI for data + talktime:-\n",
    "\n",
    "telecom_data['avg_rech_amt_6_7'] = telecom_data.apply(lambda x: ((x['total_rech_amt_6']+x['total_rech_amt_7']+x['total_rech_amt_data_6']+x['total_rech_amt_data_7'])/2),axis =1)"
   ]
  },
  {
   "cell_type": "markdown",
   "metadata": {},
   "source": [
    "#### Decile Analysis:-\n",
    "    We have to choose customers belonging to 70 percentile and above"
   ]
  },
  {
   "cell_type": "code",
   "execution_count": 10,
   "metadata": {},
   "outputs": [
    {
     "data": {
      "text/plain": [
       "count    99999.000000\n",
       "mean       485.328068\n",
       "std        869.423594\n",
       "min          0.000000\n",
       "10%         60.000000\n",
       "20%        108.500000\n",
       "30%        155.000000\n",
       "40%        209.500000\n",
       "50%        275.000000\n",
       "60%        360.000000\n",
       "70%        478.000000\n",
       "80%        656.500000\n",
       "90%       1028.000000\n",
       "max      61236.000000\n",
       "Name: avg_rech_amt_6_7, dtype: float64"
      ]
     },
     "execution_count": 10,
     "metadata": {},
     "output_type": "execute_result"
    }
   ],
   "source": [
    "telecom_data['avg_rech_amt_6_7'].describe(percentiles=[0.1,0.2,0.3,0.4,0.5,0.6,0.7,0.8,0.9]).T"
   ]
  },
  {
   "cell_type": "code",
   "execution_count": 11,
   "metadata": {},
   "outputs": [],
   "source": [
    "telecom_data['avg_rech_decile'] = pd.qcut(telecom_data['avg_rech_amt_6_7'], 10, labels=False)"
   ]
  },
  {
   "cell_type": "code",
   "execution_count": 12,
   "metadata": {},
   "outputs": [],
   "source": [
    "##Choosing customers belonging to 70 percentile and above\n",
    "telecom_data_high_value = telecom_data[telecom_data.avg_rech_decile >= 7 ]"
   ]
  },
  {
   "cell_type": "code",
   "execution_count": 13,
   "metadata": {},
   "outputs": [
    {
     "data": {
      "text/plain": [
       "mobile_number    29953\n",
       "dtype: int64"
      ]
     },
     "execution_count": 13,
     "metadata": {},
     "output_type": "execute_result"
    }
   ],
   "source": [
    "telecom_data_high_value[['mobile_number']].count()"
   ]
  },
  {
   "cell_type": "markdown",
   "metadata": {},
   "source": [
    "   We have filtered out **29.9K** high value customers - we will be working on dataset - **telecom_data_high_value**"
   ]
  },
  {
   "cell_type": "markdown",
   "metadata": {},
   "source": [
    "### Creating Some KPIs\n"
   ]
  },
  {
   "cell_type": "markdown",
   "metadata": {},
   "source": [
    "### Frequency"
   ]
  },
  {
   "cell_type": "code",
   "execution_count": 14,
   "metadata": {},
   "outputs": [],
   "source": [
    "def churnfreqrec(telecom_data_high_value):\n",
    "    i = 0\n",
    "    a = np.where(telecom_data_high_value[['date_of_last_rech_6']].isnull(),0,1)\n",
    "    i = i+a\n",
    "    b = np.where(telecom_data_high_value[['date_of_last_rech_7']].isnull(),0,1)\n",
    "    i=i+b\n",
    "    c = np.where(telecom_data_high_value[['date_of_last_rech_8']].isnull(),0,1)\n",
    "    i=i+c\n",
    "    return i"
   ]
  },
  {
   "cell_type": "code",
   "execution_count": 15,
   "metadata": {},
   "outputs": [
    {
     "name": "stderr",
     "output_type": "stream",
     "text": [
      "C:\\ProgramData\\Anaconda3\\lib\\site-packages\\ipykernel_launcher.py:1: SettingWithCopyWarning: \n",
      "A value is trying to be set on a copy of a slice from a DataFrame.\n",
      "Try using .loc[row_indexer,col_indexer] = value instead\n",
      "\n",
      "See the caveats in the documentation: http://pandas.pydata.org/pandas-docs/stable/indexing.html#indexing-view-versus-copy\n",
      "  \"\"\"Entry point for launching an IPython kernel.\n",
      "C:\\ProgramData\\Anaconda3\\lib\\site-packages\\ipykernel_launcher.py:2: SettingWithCopyWarning: \n",
      "A value is trying to be set on a copy of a slice from a DataFrame.\n",
      "Try using .loc[row_indexer,col_indexer] = value instead\n",
      "\n",
      "See the caveats in the documentation: http://pandas.pydata.org/pandas-docs/stable/indexing.html#indexing-view-versus-copy\n",
      "  \n"
     ]
    }
   ],
   "source": [
    "telecom_data_high_value['Frequency_recharge'] = 0\n",
    "telecom_data_high_value['Frequency_recharge'] = telecom_data_high_value.apply(churnfreqrec, axis=1)"
   ]
  },
  {
   "cell_type": "markdown",
   "metadata": {},
   "source": [
    "### Recency"
   ]
  },
  {
   "cell_type": "markdown",
   "metadata": {},
   "source": [
    "#### Working with date variables"
   ]
  },
  {
   "cell_type": "code",
   "execution_count": 16,
   "metadata": {},
   "outputs": [
    {
     "name": "stdout",
     "output_type": "stream",
     "text": [
      "last_date_of_month_6\n",
      "last_date_of_month_7\n",
      "last_date_of_month_8\n",
      "last_date_of_month_9\n",
      "date_of_last_rech_6\n",
      "date_of_last_rech_7\n",
      "date_of_last_rech_8\n",
      "date_of_last_rech_9\n",
      "date_of_last_rech_data_6\n",
      "date_of_last_rech_data_7\n",
      "date_of_last_rech_data_8\n",
      "date_of_last_rech_data_9\n"
     ]
    }
   ],
   "source": [
    "for variable in telecom_data_high_value.columns:\n",
    "    if telecom_data_high_value[variable].dtype.name in ['object']:\n",
    "        print (variable)"
   ]
  },
  {
   "cell_type": "code",
   "execution_count": 17,
   "metadata": {},
   "outputs": [
    {
     "name": "stderr",
     "output_type": "stream",
     "text": [
      "C:\\ProgramData\\Anaconda3\\lib\\site-packages\\ipykernel_launcher.py:3: SettingWithCopyWarning: \n",
      "A value is trying to be set on a copy of a slice from a DataFrame.\n",
      "Try using .loc[row_indexer,col_indexer] = value instead\n",
      "\n",
      "See the caveats in the documentation: http://pandas.pydata.org/pandas-docs/stable/indexing.html#indexing-view-versus-copy\n",
      "  This is separate from the ipykernel package so we can avoid doing imports until\n",
      "C:\\ProgramData\\Anaconda3\\lib\\site-packages\\ipykernel_launcher.py:4: SettingWithCopyWarning: \n",
      "A value is trying to be set on a copy of a slice from a DataFrame.\n",
      "Try using .loc[row_indexer,col_indexer] = value instead\n",
      "\n",
      "See the caveats in the documentation: http://pandas.pydata.org/pandas-docs/stable/indexing.html#indexing-view-versus-copy\n",
      "  after removing the cwd from sys.path.\n",
      "C:\\ProgramData\\Anaconda3\\lib\\site-packages\\ipykernel_launcher.py:5: SettingWithCopyWarning: \n",
      "A value is trying to be set on a copy of a slice from a DataFrame.\n",
      "Try using .loc[row_indexer,col_indexer] = value instead\n",
      "\n",
      "See the caveats in the documentation: http://pandas.pydata.org/pandas-docs/stable/indexing.html#indexing-view-versus-copy\n",
      "  \"\"\"\n",
      "C:\\ProgramData\\Anaconda3\\lib\\site-packages\\ipykernel_launcher.py:6: SettingWithCopyWarning: \n",
      "A value is trying to be set on a copy of a slice from a DataFrame.\n",
      "Try using .loc[row_indexer,col_indexer] = value instead\n",
      "\n",
      "See the caveats in the documentation: http://pandas.pydata.org/pandas-docs/stable/indexing.html#indexing-view-versus-copy\n",
      "  \n"
     ]
    }
   ],
   "source": [
    "## Reference data columns (refernce dates for last date of the month)\n",
    "## instead of replacing the nan columns we are hardcoding the columns with the date of the last day of the month\n",
    "telecom_data_high_value['last_date_of_month_6'] = pd.to_datetime('6/30/2014', format='%m/%d/%Y')\n",
    "telecom_data_high_value['last_date_of_month_7'] = pd.to_datetime('7/31/2014', format='%m/%d/%Y')\n",
    "telecom_data_high_value['last_date_of_month_8'] = pd.to_datetime('8/31/2014', format='%m/%d/%Y')\n",
    "telecom_data_high_value['last_date_of_month_9'] = pd.to_datetime('9/30/2014', format='%m/%d/%Y')"
   ]
  },
  {
   "cell_type": "code",
   "execution_count": 18,
   "metadata": {},
   "outputs": [
    {
     "name": "stderr",
     "output_type": "stream",
     "text": [
      "C:\\ProgramData\\Anaconda3\\lib\\site-packages\\pandas\\core\\frame.py:2540: SettingWithCopyWarning: \n",
      "A value is trying to be set on a copy of a slice from a DataFrame.\n",
      "Try using .loc[row_indexer,col_indexer] = value instead\n",
      "\n",
      "See the caveats in the documentation: http://pandas.pydata.org/pandas-docs/stable/indexing.html#indexing-view-versus-copy\n",
      "  self[k1] = value[k2]\n"
     ]
    }
   ],
   "source": [
    "## making the column pattern uniform\n",
    "telecom_data_high_value[['date_of_last_rech_6','date_of_last_rech_7','date_of_last_rech_8','date_of_last_rech_9','date_of_last_rech_data_6','date_of_last_rech_data_7','date_of_last_rech_data_8','date_of_last_rech_data_9']] = telecom_data_high_value[['date_of_last_rech_6','date_of_last_rech_7','date_of_last_rech_8','date_of_last_rech_9','date_of_last_rech_data_6','date_of_last_rech_data_7','date_of_last_rech_data_8','date_of_last_rech_data_9']].replace('-', '/', regex=True)"
   ]
  },
  {
   "cell_type": "code",
   "execution_count": 19,
   "metadata": {},
   "outputs": [
    {
     "name": "stderr",
     "output_type": "stream",
     "text": [
      "C:\\ProgramData\\Anaconda3\\lib\\site-packages\\ipykernel_launcher.py:2: SettingWithCopyWarning: \n",
      "A value is trying to be set on a copy of a slice from a DataFrame.\n",
      "Try using .loc[row_indexer,col_indexer] = value instead\n",
      "\n",
      "See the caveats in the documentation: http://pandas.pydata.org/pandas-docs/stable/indexing.html#indexing-view-versus-copy\n",
      "  \n",
      "C:\\ProgramData\\Anaconda3\\lib\\site-packages\\ipykernel_launcher.py:3: SettingWithCopyWarning: \n",
      "A value is trying to be set on a copy of a slice from a DataFrame.\n",
      "Try using .loc[row_indexer,col_indexer] = value instead\n",
      "\n",
      "See the caveats in the documentation: http://pandas.pydata.org/pandas-docs/stable/indexing.html#indexing-view-versus-copy\n",
      "  This is separate from the ipykernel package so we can avoid doing imports until\n",
      "C:\\ProgramData\\Anaconda3\\lib\\site-packages\\ipykernel_launcher.py:4: SettingWithCopyWarning: \n",
      "A value is trying to be set on a copy of a slice from a DataFrame.\n",
      "Try using .loc[row_indexer,col_indexer] = value instead\n",
      "\n",
      "See the caveats in the documentation: http://pandas.pydata.org/pandas-docs/stable/indexing.html#indexing-view-versus-copy\n",
      "  after removing the cwd from sys.path.\n",
      "C:\\ProgramData\\Anaconda3\\lib\\site-packages\\ipykernel_launcher.py:5: SettingWithCopyWarning: \n",
      "A value is trying to be set on a copy of a slice from a DataFrame.\n",
      "Try using .loc[row_indexer,col_indexer] = value instead\n",
      "\n",
      "See the caveats in the documentation: http://pandas.pydata.org/pandas-docs/stable/indexing.html#indexing-view-versus-copy\n",
      "  \"\"\"\n",
      "C:\\ProgramData\\Anaconda3\\lib\\site-packages\\ipykernel_launcher.py:6: SettingWithCopyWarning: \n",
      "A value is trying to be set on a copy of a slice from a DataFrame.\n",
      "Try using .loc[row_indexer,col_indexer] = value instead\n",
      "\n",
      "See the caveats in the documentation: http://pandas.pydata.org/pandas-docs/stable/indexing.html#indexing-view-versus-copy\n",
      "  \n",
      "C:\\ProgramData\\Anaconda3\\lib\\site-packages\\ipykernel_launcher.py:7: SettingWithCopyWarning: \n",
      "A value is trying to be set on a copy of a slice from a DataFrame.\n",
      "Try using .loc[row_indexer,col_indexer] = value instead\n",
      "\n",
      "See the caveats in the documentation: http://pandas.pydata.org/pandas-docs/stable/indexing.html#indexing-view-versus-copy\n",
      "  import sys\n",
      "C:\\ProgramData\\Anaconda3\\lib\\site-packages\\ipykernel_launcher.py:8: SettingWithCopyWarning: \n",
      "A value is trying to be set on a copy of a slice from a DataFrame.\n",
      "Try using .loc[row_indexer,col_indexer] = value instead\n",
      "\n",
      "See the caveats in the documentation: http://pandas.pydata.org/pandas-docs/stable/indexing.html#indexing-view-versus-copy\n",
      "  \n",
      "C:\\ProgramData\\Anaconda3\\lib\\site-packages\\ipykernel_launcher.py:9: SettingWithCopyWarning: \n",
      "A value is trying to be set on a copy of a slice from a DataFrame.\n",
      "Try using .loc[row_indexer,col_indexer] = value instead\n",
      "\n",
      "See the caveats in the documentation: http://pandas.pydata.org/pandas-docs/stable/indexing.html#indexing-view-versus-copy\n",
      "  if __name__ == '__main__':\n"
     ]
    }
   ],
   "source": [
    "## converting the date columns to date format\n",
    "telecom_data_high_value['date_of_last_rech_6'] = pd.to_datetime(telecom_data_high_value['date_of_last_rech_6'], format='%m/%d/%Y')\n",
    "telecom_data_high_value['date_of_last_rech_7'] = pd.to_datetime(telecom_data_high_value['date_of_last_rech_7'], format='%m/%d/%Y')\n",
    "telecom_data_high_value['date_of_last_rech_8'] = pd.to_datetime(telecom_data_high_value['date_of_last_rech_8'], format='%m/%d/%Y')\n",
    "telecom_data_high_value['date_of_last_rech_9'] = pd.to_datetime(telecom_data_high_value['date_of_last_rech_9'], format='%m/%d/%Y')\n",
    "telecom_data_high_value['date_of_last_rech_data_6'] = pd.to_datetime(telecom_data_high_value['date_of_last_rech_data_6'], format='%m/%d/%Y')\n",
    "telecom_data_high_value['date_of_last_rech_data_7'] = pd.to_datetime(telecom_data_high_value['date_of_last_rech_data_7'], format='%m/%d/%Y')\n",
    "telecom_data_high_value['date_of_last_rech_data_8'] = pd.to_datetime(telecom_data_high_value['date_of_last_rech_data_8'], format='%m/%d/%Y')\n",
    "telecom_data_high_value['date_of_last_rech_data_9'] = pd.to_datetime(telecom_data_high_value['date_of_last_rech_data_9'], format='%m/%d/%Y')"
   ]
  },
  {
   "cell_type": "markdown",
   "metadata": {},
   "source": [
    "#### Recency of last Recharge"
   ]
  },
  {
   "cell_type": "code",
   "execution_count": 20,
   "metadata": {},
   "outputs": [],
   "source": [
    "def churnrec(telecom_data_high_value):\n",
    "    k=True\n",
    "    a = np.where(telecom_data_high_value[['date_of_last_rech_9']].isnull(),0,1)\n",
    "    b = np.where(telecom_data_high_value[['date_of_last_rech_8']].isnull(),0,1)\n",
    "    c = np.where(telecom_data_high_value[['date_of_last_rech_7']].isnull(),0,1)\n",
    "    d = np.where(telecom_data_high_value[['date_of_last_rech_6']].isnull(),0,1)\n",
    "    while True:\n",
    "        if a == 1:\n",
    "            no_of_Days = (telecom_data_high_value['last_date_of_month_9']  - telecom_data_high_value['date_of_last_rech_9'])\n",
    "            break\n",
    "        elif b == 1:\n",
    "            no_of_Days = (telecom_data_high_value['last_date_of_month_9']  - telecom_data_high_value['date_of_last_rech_8'])\n",
    "            break\n",
    "        elif c == 1:\n",
    "            no_of_Days = (telecom_data_high_value['last_date_of_month_9']  - telecom_data_high_value['date_of_last_rech_7'])\n",
    "            break\n",
    "        elif d == 1:\n",
    "            no_of_Days = (telecom_data_high_value['last_date_of_month_9']  - telecom_data_high_value['date_of_last_rech_6'])\n",
    "            break\n",
    "    return no_of_Days"
   ]
  },
  {
   "cell_type": "code",
   "execution_count": 21,
   "metadata": {},
   "outputs": [
    {
     "name": "stderr",
     "output_type": "stream",
     "text": [
      "C:\\ProgramData\\Anaconda3\\lib\\site-packages\\ipykernel_launcher.py:1: SettingWithCopyWarning: \n",
      "A value is trying to be set on a copy of a slice from a DataFrame.\n",
      "Try using .loc[row_indexer,col_indexer] = value instead\n",
      "\n",
      "See the caveats in the documentation: http://pandas.pydata.org/pandas-docs/stable/indexing.html#indexing-view-versus-copy\n",
      "  \"\"\"Entry point for launching an IPython kernel.\n"
     ]
    }
   ],
   "source": [
    "telecom_data_high_value['Recency_last_recharge'] = telecom_data_high_value.apply(churnrec, axis=1)"
   ]
  },
  {
   "cell_type": "markdown",
   "metadata": {},
   "source": [
    "**Lets observer some trends**"
   ]
  },
  {
   "cell_type": "code",
   "execution_count": 22,
   "metadata": {},
   "outputs": [
    {
     "name": "stderr",
     "output_type": "stream",
     "text": [
      "C:\\ProgramData\\Anaconda3\\lib\\site-packages\\ipykernel_launcher.py:2: SettingWithCopyWarning: \n",
      "A value is trying to be set on a copy of a slice from a DataFrame.\n",
      "Try using .loc[row_indexer,col_indexer] = value instead\n",
      "\n",
      "See the caveats in the documentation: http://pandas.pydata.org/pandas-docs/stable/indexing.html#indexing-view-versus-copy\n",
      "  \n",
      "C:\\ProgramData\\Anaconda3\\lib\\site-packages\\ipykernel_launcher.py:3: SettingWithCopyWarning: \n",
      "A value is trying to be set on a copy of a slice from a DataFrame.\n",
      "Try using .loc[row_indexer,col_indexer] = value instead\n",
      "\n",
      "See the caveats in the documentation: http://pandas.pydata.org/pandas-docs/stable/indexing.html#indexing-view-versus-copy\n",
      "  This is separate from the ipykernel package so we can avoid doing imports until\n",
      "C:\\ProgramData\\Anaconda3\\lib\\site-packages\\ipykernel_launcher.py:4: SettingWithCopyWarning: \n",
      "A value is trying to be set on a copy of a slice from a DataFrame.\n",
      "Try using .loc[row_indexer,col_indexer] = value instead\n",
      "\n",
      "See the caveats in the documentation: http://pandas.pydata.org/pandas-docs/stable/indexing.html#indexing-view-versus-copy\n",
      "  after removing the cwd from sys.path.\n"
     ]
    }
   ],
   "source": [
    "# extracting month and year from issue_date\n",
    "telecom_data_high_value['date_of_last_rech_6_month'] = telecom_data_high_value['date_of_last_rech_6'].apply(lambda x: x.month)\n",
    "telecom_data_high_value['date_of_last_rech_7_month'] = telecom_data_high_value['date_of_last_rech_7'].apply(lambda x: x.month)\n",
    "telecom_data_high_value['date_of_last_rech_8_month'] = telecom_data_high_value['date_of_last_rech_8'].apply(lambda x: x.month)"
   ]
  },
  {
   "cell_type": "code",
   "execution_count": 23,
   "metadata": {},
   "outputs": [
    {
     "name": "stdout",
     "output_type": "stream",
     "text": [
      "date_of_last_rech_6_month\n",
      "6.0    559.8\n",
      "Name: arpu_6, dtype: float64\n",
      "date_of_last_rech_7_month\n",
      "7.0    562.04\n",
      "Name: arpu_7, dtype: float64\n",
      "date_of_last_rech_8_month\n",
      "8.0    516.59\n",
      "Name: arpu_8, dtype: float64\n"
     ]
    }
   ],
   "source": [
    "# let's first observe the number of mean revenue across month\n",
    "print(telecom_data_high_value.groupby('date_of_last_rech_6_month').arpu_6.mean().round(2))\n",
    "print(telecom_data_high_value.groupby('date_of_last_rech_7_month').arpu_7.mean().round(2))\n",
    "print(telecom_data_high_value.groupby('date_of_last_rech_8_month').arpu_8.mean().round(2))"
   ]
  },
  {
   "cell_type": "code",
   "execution_count": 24,
   "metadata": {},
   "outputs": [
    {
     "name": "stdout",
     "output_type": "stream",
     "text": [
      "date_of_last_rech_6_month\n",
      "6.0    259.01\n",
      "Name: loc_og_mou_6, dtype: float64\n",
      "date_of_last_rech_7_month\n",
      "7.0    259.85\n",
      "Name: loc_og_mou_7, dtype: float64\n",
      "date_of_last_rech_8_month\n",
      "8.0    246.17\n",
      "Name: loc_og_mou_8, dtype: float64\n"
     ]
    }
   ],
   "source": [
    "# let's first observe the number of mean outgoing calls across month\n",
    "print(telecom_data_high_value.groupby('date_of_last_rech_6_month').loc_og_mou_6.mean().round(2))\n",
    "print(telecom_data_high_value.groupby('date_of_last_rech_7_month').loc_og_mou_7.mean().round(2))\n",
    "print(telecom_data_high_value.groupby('date_of_last_rech_8_month').loc_og_mou_8.mean().round(2))"
   ]
  },
  {
   "cell_type": "code",
   "execution_count": 25,
   "metadata": {},
   "outputs": [
    {
     "name": "stdout",
     "output_type": "stream",
     "text": [
      "date_of_last_rech_6_month\n",
      "6.0    290.78\n",
      "Name: total_ic_mou_6, dtype: float64\n",
      "date_of_last_rech_7_month\n",
      "7.0    297.72\n",
      "Name: total_ic_mou_7, dtype: float64\n",
      "date_of_last_rech_8_month\n",
      "8.0    284.2\n",
      "Name: total_ic_mou_8, dtype: float64\n"
     ]
    }
   ],
   "source": [
    "# let's first observe the number of mean incoming calls across month\n",
    "print(telecom_data_high_value.groupby('date_of_last_rech_6_month').total_ic_mou_6.mean().round(2))\n",
    "print(telecom_data_high_value.groupby('date_of_last_rech_7_month').total_ic_mou_7.mean().round(2))\n",
    "print(telecom_data_high_value.groupby('date_of_last_rech_8_month').total_ic_mou_8.mean().round(2))"
   ]
  },
  {
   "cell_type": "code",
   "execution_count": 26,
   "metadata": {},
   "outputs": [
    {
     "name": "stdout",
     "output_type": "stream",
     "text": [
      "date_of_last_rech_6_month\n",
      "6.0    662.74\n",
      "Name: total_rech_amt_6, dtype: float64\n",
      "date_of_last_rech_7_month\n",
      "7.0    663.1\n",
      "Name: total_rech_amt_7, dtype: float64\n",
      "date_of_last_rech_8_month\n",
      "8.0    596.3\n",
      "Name: total_rech_amt_8, dtype: float64\n"
     ]
    }
   ],
   "source": [
    "# let's first observe the number of mean recharge amount across month\n",
    "print(telecom_data_high_value.groupby('date_of_last_rech_6_month').total_rech_amt_6.mean().round(2))\n",
    "print(telecom_data_high_value.groupby('date_of_last_rech_7_month').total_rech_amt_7.mean().round(2))\n",
    "print(telecom_data_high_value.groupby('date_of_last_rech_8_month').total_rech_amt_8.mean().round(2))"
   ]
  },
  {
   "cell_type": "markdown",
   "metadata": {},
   "source": [
    "We see in all the trends there is a decline in the mean value from first two months to third month"
   ]
  },
  {
   "cell_type": "code",
   "execution_count": 27,
   "metadata": {},
   "outputs": [
    {
     "data": {
      "image/png": "[encoded data removed]",
      "text/plain": [
       "<matplotlib.figure.Figure at 0x21c6ecf3dd8>"
      ]
     },
     "metadata": {},
     "output_type": "display_data"
    },
    {
     "data": {
      "image/png": "[encoded data removed]",
      "text/plain": [
       "<matplotlib.figure.Figure at 0x21c6ed1f2b0>"
      ]
     },
     "metadata": {},
     "output_type": "display_data"
    },
    {
     "data": {
      "image/png": "[encoded data removed]",
      "text/plain": [
       "<matplotlib.figure.Figure at 0x21c27412dd8>"
      ]
     },
     "metadata": {},
     "output_type": "display_data"
    }
   ],
   "source": [
    "sns.distplot(telecom_data_high_value['arpu_6'])\n",
    "plt.show()\n",
    "sns.distplot(telecom_data_high_value['arpu_7'])\n",
    "plt.show()\n",
    "sns.distplot(telecom_data_high_value['arpu_8'])\n",
    "plt.show()"
   ]
  },
  {
   "cell_type": "markdown",
   "metadata": {},
   "source": [
    "**Dropping unnecessary columns**"
   ]
  },
  {
   "cell_type": "code",
   "execution_count": 28,
   "metadata": {},
   "outputs": [
    {
     "name": "stderr",
     "output_type": "stream",
     "text": [
      "C:\\ProgramData\\Anaconda3\\lib\\site-packages\\ipykernel_launcher.py:4: SettingWithCopyWarning: \n",
      "A value is trying to be set on a copy of a slice from a DataFrame\n",
      "\n",
      "See the caveats in the documentation: http://pandas.pydata.org/pandas-docs/stable/indexing.html#indexing-view-versus-copy\n",
      "  after removing the cwd from sys.path.\n"
     ]
    }
   ],
   "source": [
    "##Dropping av_rech_amt_data_mnth column since we already have created KPI for total.\n",
    "##Dropping decile column since it is no longer necessary\n",
    "\n",
    "telecom_data_high_value.drop(['av_rech_amt_data_6', 'av_rech_amt_data_7', 'av_rech_amt_data_8', 'avg_rech_decile'], axis=1, inplace= True)"
   ]
  },
  {
   "cell_type": "markdown",
   "metadata": {},
   "source": [
    "**Dropping columns with single vlaue diversity**\n",
    "    \n",
    "    circle_id        - single value '109'\n",
    "    \n",
    "**Replacing NULL value with '1':-**\n",
    "    \n",
    "    Categorical levels:-\n",
    "    loc_og_t2o_mou, std_og_t2o_mou, loc_ic_t2o_mou\n",
    "    \n",
    "    '0' - signifies have done some calls per user (loc/std/mou).\n",
    "    '1' - signifies have done none. (28 customers no loc_og or std_og or loc_ic)."
   ]
  },
  {
   "cell_type": "code",
   "execution_count": 29,
   "metadata": {},
   "outputs": [
    {
     "data": {
      "text/plain": [
       "circle_id         1\n",
       "loc_og_t2o_mou    1\n",
       "std_og_t2o_mou    1\n",
       "loc_ic_t2o_mou    1\n",
       "dtype: int64"
      ]
     },
     "execution_count": 29,
     "metadata": {},
     "output_type": "execute_result"
    }
   ],
   "source": [
    "telecom_data_high_value[['circle_id','loc_og_t2o_mou','std_og_t2o_mou','loc_ic_t2o_mou']].nunique()"
   ]
  },
  {
   "cell_type": "code",
   "execution_count": 30,
   "metadata": {},
   "outputs": [
    {
     "data": {
      "text/plain": [
       "circle_id         False\n",
       "loc_og_t2o_mou     True\n",
       "std_og_t2o_mou     True\n",
       "loc_ic_t2o_mou     True\n",
       "dtype: bool"
      ]
     },
     "execution_count": 30,
     "metadata": {},
     "output_type": "execute_result"
    }
   ],
   "source": [
    "telecom_data_high_value[['circle_id','loc_og_t2o_mou','std_og_t2o_mou','loc_ic_t2o_mou']].isnull().any()"
   ]
  },
  {
   "cell_type": "code",
   "execution_count": 31,
   "metadata": {},
   "outputs": [
    {
     "name": "stderr",
     "output_type": "stream",
     "text": [
      "C:\\ProgramData\\Anaconda3\\lib\\site-packages\\ipykernel_launcher.py:2: SettingWithCopyWarning: \n",
      "A value is trying to be set on a copy of a slice from a DataFrame\n",
      "\n",
      "See the caveats in the documentation: http://pandas.pydata.org/pandas-docs/stable/indexing.html#indexing-view-versus-copy\n",
      "  \n"
     ]
    }
   ],
   "source": [
    "## Dropping circle id\n",
    "telecom_data_high_value.drop( 'circle_id', axis=1, inplace= True)"
   ]
  },
  {
   "cell_type": "code",
   "execution_count": 32,
   "metadata": {},
   "outputs": [
    {
     "name": "stderr",
     "output_type": "stream",
     "text": [
      "C:\\ProgramData\\Anaconda3\\lib\\site-packages\\pandas\\core\\frame.py:2540: SettingWithCopyWarning: \n",
      "A value is trying to be set on a copy of a slice from a DataFrame.\n",
      "Try using .loc[row_indexer,col_indexer] = value instead\n",
      "\n",
      "See the caveats in the documentation: http://pandas.pydata.org/pandas-docs/stable/indexing.html#indexing-view-versus-copy\n",
      "  self[k1] = value[k2]\n"
     ]
    }
   ],
   "source": [
    "##replacing null in 'loc_og_t2o_mou','std_og_t2o_mou','loc_ic_t2o_mou'\n",
    "\n",
    "telecom_data_high_value[['loc_og_t2o_mou','std_og_t2o_mou','loc_ic_t2o_mou']] = telecom_data_high_value[['loc_og_t2o_mou','std_og_t2o_mou','loc_ic_t2o_mou']].replace(np.nan, 1, regex=True)"
   ]
  },
  {
   "cell_type": "markdown",
   "metadata": {},
   "source": [
    "#### Creating CHURN INDICATOR -"
   ]
  },
  {
   "cell_type": "code",
   "execution_count": 33,
   "metadata": {},
   "outputs": [],
   "source": [
    "def churnind(telecom_data_high_value):\n",
    "    if ((telecom_data_high_value.total_ic_mou_9 == 0) & (telecom_data_high_value.total_og_mou_9 == 0) & (telecom_data_high_value.vol_2g_mb_9 == 0) & (telecom_data_high_value.vol_3g_mb_9 == 0)):\n",
    "        return 1\n",
    "    else:\n",
    "        return 0"
   ]
  },
  {
   "cell_type": "code",
   "execution_count": 34,
   "metadata": {},
   "outputs": [
    {
     "name": "stderr",
     "output_type": "stream",
     "text": [
      "C:\\ProgramData\\Anaconda3\\lib\\site-packages\\ipykernel_launcher.py:1: SettingWithCopyWarning: \n",
      "A value is trying to be set on a copy of a slice from a DataFrame.\n",
      "Try using .loc[row_indexer,col_indexer] = value instead\n",
      "\n",
      "See the caveats in the documentation: http://pandas.pydata.org/pandas-docs/stable/indexing.html#indexing-view-versus-copy\n",
      "  \"\"\"Entry point for launching an IPython kernel.\n"
     ]
    }
   ],
   "source": [
    "telecom_data_high_value['CHURN_IND'] = telecom_data_high_value.apply(churnind, axis=1)"
   ]
  },
  {
   "cell_type": "code",
   "execution_count": 35,
   "metadata": {},
   "outputs": [
    {
     "data": {
      "text/plain": [
       "CHURN_IND\n",
       "0    27520\n",
       "1     2433\n",
       "dtype: int64"
      ]
     },
     "execution_count": 35,
     "metadata": {},
     "output_type": "execute_result"
    }
   ],
   "source": [
    "#Churn indicator split\n",
    "telecom_data_high_value.groupby('CHURN_IND').size()"
   ]
  },
  {
   "cell_type": "code",
   "execution_count": 36,
   "metadata": {},
   "outputs": [
    {
     "data": {
      "text/plain": [
       "Index(['last_date_of_month_9', 'arpu_9', 'onnet_mou_9', 'offnet_mou_9',\n",
       "       'roam_ic_mou_9', 'roam_og_mou_9', 'loc_og_t2t_mou_9',\n",
       "       'loc_og_t2m_mou_9', 'loc_og_t2f_mou_9', 'loc_og_t2c_mou_9',\n",
       "       'loc_og_mou_9', 'std_og_t2t_mou_9', 'std_og_t2m_mou_9',\n",
       "       'std_og_t2f_mou_9', 'std_og_t2c_mou_9', 'std_og_mou_9', 'isd_og_mou_9',\n",
       "       'spl_og_mou_9', 'og_others_9', 'total_og_mou_9', 'loc_ic_t2t_mou_9',\n",
       "       'loc_ic_t2m_mou_9', 'loc_ic_t2f_mou_9', 'loc_ic_mou_9',\n",
       "       'std_ic_t2t_mou_9', 'std_ic_t2m_mou_9', 'std_ic_t2f_mou_9',\n",
       "       'std_ic_t2o_mou_9', 'std_ic_mou_9', 'total_ic_mou_9', 'spl_ic_mou_9',\n",
       "       'isd_ic_mou_9', 'ic_others_9', 'total_rech_num_9', 'total_rech_amt_9',\n",
       "       'max_rech_amt_9', 'date_of_last_rech_9', 'last_day_rch_amt_9',\n",
       "       'date_of_last_rech_data_9', 'total_rech_data_9', 'max_rech_data_9',\n",
       "       'count_rech_2g_9', 'count_rech_3g_9', 'av_rech_amt_data_9',\n",
       "       'vol_2g_mb_9', 'vol_3g_mb_9', 'arpu_3g_9', 'arpu_2g_9',\n",
       "       'night_pck_user_9', 'monthly_2g_9', 'sachet_2g_9', 'monthly_3g_9',\n",
       "       'sachet_3g_9', 'fb_user_9'],\n",
       "      dtype='object')"
      ]
     },
     "execution_count": 36,
     "metadata": {},
     "output_type": "execute_result"
    }
   ],
   "source": [
    "telecom_tobedel = telecom_data_high_value.filter(regex='_9')\n",
    "telecom_tobedel.columns"
   ]
  },
  {
   "cell_type": "code",
   "execution_count": 37,
   "metadata": {},
   "outputs": [],
   "source": [
    "telecom_data_new  = telecom_data_high_value.drop(telecom_tobedel.columns, axis=1)"
   ]
  },
  {
   "cell_type": "code",
   "execution_count": 38,
   "metadata": {},
   "outputs": [],
   "source": [
    "### Deleting Date columns since we have already generated the required KPI"
   ]
  },
  {
   "cell_type": "code",
   "execution_count": 39,
   "metadata": {},
   "outputs": [],
   "source": [
    "### Drop date variables since we have already used it to create recency and frequency -\n",
    "telecom_data_new.drop(['last_date_of_month_6',\n",
    "'last_date_of_month_7',\n",
    "'last_date_of_month_8',\n",
    "'date_of_last_rech_6',\n",
    "'date_of_last_rech_7',\n",
    "'date_of_last_rech_8',\n",
    "'date_of_last_rech_data_6',\n",
    "'date_of_last_rech_data_7',\n",
    "'date_of_last_rech_data_8',\n",
    "'date_of_last_rech_6_month',\n",
    "'date_of_last_rech_8_month',\n",
    "'date_of_last_rech_7_month'],axis=1, inplace = True)"
   ]
  },
  {
   "cell_type": "code",
   "execution_count": 40,
   "metadata": {},
   "outputs": [
    {
     "name": "stdout",
     "output_type": "stream",
     "text": [
      "<class 'pandas.core.frame.DataFrame'>\n",
      "Int64Index: 29953 entries, 0 to 99997\n",
      "Columns: 165 entries, mobile_number to CHURN_IND\n",
      "dtypes: float64(136), int32(1), int64(27), timedelta64[ns](1)\n",
      "memory usage: 37.8 MB\n"
     ]
    }
   ],
   "source": [
    "telecom_data_new.info()"
   ]
  },
  {
   "cell_type": "markdown",
   "metadata": {},
   "source": [
    "    We now have reduced the varaibles to 165 -\n",
    "        Next, we will segregate the numeric and categoric variables and make the system robust"
   ]
  },
  {
   "cell_type": "markdown",
   "metadata": {},
   "source": [
    "**Creating seperate List for categorical and numeric variables**"
   ]
  },
  {
   "cell_type": "code",
   "execution_count": 41,
   "metadata": {},
   "outputs": [],
   "source": [
    "#Converting telecom_data_new column to integer type"
   ]
  },
  {
   "cell_type": "code",
   "execution_count": 42,
   "metadata": {},
   "outputs": [],
   "source": [
    "telecom_data_new['Recency_last_recharge'] = telecom_data_new['Recency_last_recharge'].astype('str')"
   ]
  },
  {
   "cell_type": "code",
   "execution_count": 43,
   "metadata": {},
   "outputs": [],
   "source": [
    "telecom_data_new['Recency_last_recharge'] = telecom_data_new['Recency_last_recharge'].apply(lambda x: pd.to_numeric(x.split(\" \")[0]))"
   ]
  },
  {
   "cell_type": "code",
   "execution_count": 44,
   "metadata": {},
   "outputs": [
    {
     "data": {
      "text/plain": [
       "dtype('int64')"
      ]
     },
     "execution_count": 44,
     "metadata": {},
     "output_type": "execute_result"
    }
   ],
   "source": [
    "telecom_data_new['Recency_last_recharge'].dtype"
   ]
  },
  {
   "cell_type": "code",
   "execution_count": 45,
   "metadata": {},
   "outputs": [
    {
     "name": "stdout",
     "output_type": "stream",
     "text": [
      "<class 'pandas.core.frame.DataFrame'>\n",
      "Int64Index: 29953 entries, 0 to 99997\n",
      "Columns: 165 entries, mobile_number to CHURN_IND\n",
      "dtypes: float64(136), int32(1), int64(28)\n",
      "memory usage: 37.8 MB\n"
     ]
    }
   ],
   "source": [
    "telecom_data_new.info()"
   ]
  },
  {
   "cell_type": "code",
   "execution_count": 46,
   "metadata": {},
   "outputs": [
    {
     "data": {
      "text/plain": [
       "['loc_og_t2o_mou',\n",
       " 'std_og_t2o_mou',\n",
       " 'loc_ic_t2o_mou',\n",
       " 'night_pck_user_6',\n",
       " 'night_pck_user_7',\n",
       " 'night_pck_user_8',\n",
       " 'fb_user_6',\n",
       " 'fb_user_7',\n",
       " 'fb_user_8',\n",
       " 'CHURN_IND']"
      ]
     },
     "execution_count": 46,
     "metadata": {},
     "output_type": "execute_result"
    }
   ],
   "source": [
    "cat_list = ['loc_og_t2o_mou', 'std_og_t2o_mou', 'loc_ic_t2o_mou', 'night_pck_user_6', 'night_pck_user_7','night_pck_user_8', 'fb_user_6', 'fb_user_7', 'fb_user_8','CHURN_IND']\n",
    "cat_list"
   ]
  },
  {
   "cell_type": "code",
   "execution_count": 47,
   "metadata": {},
   "outputs": [
    {
     "data": {
      "text/plain": [
       "['mobile_number',\n",
       " 'arpu_6',\n",
       " 'arpu_7',\n",
       " 'arpu_8',\n",
       " 'onnet_mou_6',\n",
       " 'onnet_mou_7',\n",
       " 'onnet_mou_8',\n",
       " 'offnet_mou_6',\n",
       " 'offnet_mou_7',\n",
       " 'offnet_mou_8',\n",
       " 'roam_ic_mou_6',\n",
       " 'roam_ic_mou_7',\n",
       " 'roam_ic_mou_8',\n",
       " 'roam_og_mou_6',\n",
       " 'roam_og_mou_7',\n",
       " 'roam_og_mou_8',\n",
       " 'loc_og_t2t_mou_6',\n",
       " 'loc_og_t2t_mou_7',\n",
       " 'loc_og_t2t_mou_8',\n",
       " 'loc_og_t2m_mou_6',\n",
       " 'loc_og_t2m_mou_7',\n",
       " 'loc_og_t2m_mou_8',\n",
       " 'loc_og_t2f_mou_6',\n",
       " 'loc_og_t2f_mou_7',\n",
       " 'loc_og_t2f_mou_8',\n",
       " 'loc_og_t2c_mou_6',\n",
       " 'loc_og_t2c_mou_7',\n",
       " 'loc_og_t2c_mou_8',\n",
       " 'loc_og_mou_6',\n",
       " 'loc_og_mou_7',\n",
       " 'loc_og_mou_8',\n",
       " 'std_og_t2t_mou_6',\n",
       " 'std_og_t2t_mou_7',\n",
       " 'std_og_t2t_mou_8',\n",
       " 'std_og_t2m_mou_6',\n",
       " 'std_og_t2m_mou_7',\n",
       " 'std_og_t2m_mou_8',\n",
       " 'std_og_t2f_mou_6',\n",
       " 'std_og_t2f_mou_7',\n",
       " 'std_og_t2f_mou_8',\n",
       " 'std_og_t2c_mou_6',\n",
       " 'std_og_t2c_mou_7',\n",
       " 'std_og_t2c_mou_8',\n",
       " 'std_og_mou_6',\n",
       " 'std_og_mou_7',\n",
       " 'std_og_mou_8',\n",
       " 'isd_og_mou_6',\n",
       " 'isd_og_mou_7',\n",
       " 'isd_og_mou_8',\n",
       " 'spl_og_mou_6',\n",
       " 'spl_og_mou_7',\n",
       " 'spl_og_mou_8',\n",
       " 'og_others_6',\n",
       " 'og_others_7',\n",
       " 'og_others_8',\n",
       " 'total_og_mou_6',\n",
       " 'total_og_mou_7',\n",
       " 'total_og_mou_8',\n",
       " 'loc_ic_t2t_mou_6',\n",
       " 'loc_ic_t2t_mou_7',\n",
       " 'loc_ic_t2t_mou_8',\n",
       " 'loc_ic_t2m_mou_6',\n",
       " 'loc_ic_t2m_mou_7',\n",
       " 'loc_ic_t2m_mou_8',\n",
       " 'loc_ic_t2f_mou_6',\n",
       " 'loc_ic_t2f_mou_7',\n",
       " 'loc_ic_t2f_mou_8',\n",
       " 'loc_ic_mou_6',\n",
       " 'loc_ic_mou_7',\n",
       " 'loc_ic_mou_8',\n",
       " 'std_ic_t2t_mou_6',\n",
       " 'std_ic_t2t_mou_7',\n",
       " 'std_ic_t2t_mou_8',\n",
       " 'std_ic_t2m_mou_6',\n",
       " 'std_ic_t2m_mou_7',\n",
       " 'std_ic_t2m_mou_8',\n",
       " 'std_ic_t2f_mou_6',\n",
       " 'std_ic_t2f_mou_7',\n",
       " 'std_ic_t2f_mou_8',\n",
       " 'std_ic_t2o_mou_6',\n",
       " 'std_ic_t2o_mou_7',\n",
       " 'std_ic_t2o_mou_8',\n",
       " 'std_ic_mou_6',\n",
       " 'std_ic_mou_7',\n",
       " 'std_ic_mou_8',\n",
       " 'total_ic_mou_6',\n",
       " 'total_ic_mou_7',\n",
       " 'total_ic_mou_8',\n",
       " 'spl_ic_mou_6',\n",
       " 'spl_ic_mou_7',\n",
       " 'spl_ic_mou_8',\n",
       " 'isd_ic_mou_6',\n",
       " 'isd_ic_mou_7',\n",
       " 'isd_ic_mou_8',\n",
       " 'ic_others_6',\n",
       " 'ic_others_7',\n",
       " 'ic_others_8',\n",
       " 'total_rech_num_6',\n",
       " 'total_rech_num_7',\n",
       " 'total_rech_num_8',\n",
       " 'total_rech_amt_6',\n",
       " 'total_rech_amt_7',\n",
       " 'total_rech_amt_8',\n",
       " 'max_rech_amt_6',\n",
       " 'max_rech_amt_7',\n",
       " 'max_rech_amt_8',\n",
       " 'last_day_rch_amt_6',\n",
       " 'last_day_rch_amt_7',\n",
       " 'last_day_rch_amt_8',\n",
       " 'total_rech_data_6',\n",
       " 'total_rech_data_7',\n",
       " 'total_rech_data_8',\n",
       " 'max_rech_data_6',\n",
       " 'max_rech_data_7',\n",
       " 'max_rech_data_8',\n",
       " 'count_rech_2g_6',\n",
       " 'count_rech_2g_7',\n",
       " 'count_rech_2g_8',\n",
       " 'count_rech_3g_6',\n",
       " 'count_rech_3g_7',\n",
       " 'count_rech_3g_8',\n",
       " 'vol_2g_mb_6',\n",
       " 'vol_2g_mb_7',\n",
       " 'vol_2g_mb_8',\n",
       " 'vol_3g_mb_6',\n",
       " 'vol_3g_mb_7',\n",
       " 'vol_3g_mb_8',\n",
       " 'arpu_3g_6',\n",
       " 'arpu_3g_7',\n",
       " 'arpu_3g_8',\n",
       " 'arpu_2g_6',\n",
       " 'arpu_2g_7',\n",
       " 'arpu_2g_8',\n",
       " 'monthly_2g_6',\n",
       " 'monthly_2g_7',\n",
       " 'monthly_2g_8',\n",
       " 'sachet_2g_6',\n",
       " 'sachet_2g_7',\n",
       " 'sachet_2g_8',\n",
       " 'monthly_3g_6',\n",
       " 'monthly_3g_7',\n",
       " 'monthly_3g_8',\n",
       " 'sachet_3g_6',\n",
       " 'sachet_3g_7',\n",
       " 'sachet_3g_8',\n",
       " 'aon',\n",
       " 'aug_vbc_3g',\n",
       " 'jul_vbc_3g',\n",
       " 'jun_vbc_3g',\n",
       " 'sep_vbc_3g',\n",
       " 'total_rech_amt_data_6',\n",
       " 'total_rech_amt_data_7',\n",
       " 'avg_rech_amt_6_7',\n",
       " 'Frequency_recharge',\n",
       " 'Recency_last_recharge']"
      ]
     },
     "execution_count": 47,
     "metadata": {},
     "output_type": "execute_result"
    }
   ],
   "source": [
    "numlist = []\n",
    "for x in telecom_data_new.columns:\n",
    "    if x not in(cat_list):\n",
    "        numlist.append(x)\n",
    "numlist"
   ]
  },
  {
   "cell_type": "markdown",
   "metadata": {},
   "source": [
    "**Working with Numerical variables**"
   ]
  },
  {
   "cell_type": "code",
   "execution_count": 48,
   "metadata": {},
   "outputs": [],
   "source": [
    "#Creating a dataset out of the SUM of NULLs\n",
    "no_of_null = pd.DataFrame(telecom_data_new[numlist].isnull().sum(axis=0)).reset_index()\n",
    "no_of_null.rename(columns={ no_of_null.columns[0]: \"Attributes\",no_of_null.columns[1]: \"NoOfNulls\"},inplace=True)"
   ]
  },
  {
   "cell_type": "code",
   "execution_count": 49,
   "metadata": {},
   "outputs": [
    {
     "data": {
      "text/html": [
       "<div>\n",
       "<style scoped>\n",
       "    .dataframe tbody tr th:only-of-type {\n",
       "        vertical-align: middle;\n",
       "    }\n",
       "\n",
       "    .dataframe tbody tr th {\n",
       "        vertical-align: top;\n",
       "    }\n",
       "\n",
       "    .dataframe thead th {\n",
       "        text-align: right;\n",
       "    }\n",
       "</style>\n",
       "<table border=\"1\" class=\"dataframe\">\n",
       "  <thead>\n",
       "    <tr style=\"text-align: right;\">\n",
       "      <th></th>\n",
       "      <th>Attributes</th>\n",
       "      <th>NoOfNulls</th>\n",
       "    </tr>\n",
       "  </thead>\n",
       "  <tbody>\n",
       "    <tr>\n",
       "      <th>4</th>\n",
       "      <td>onnet_mou_6</td>\n",
       "      <td>542</td>\n",
       "    </tr>\n",
       "    <tr>\n",
       "      <th>5</th>\n",
       "      <td>onnet_mou_7</td>\n",
       "      <td>536</td>\n",
       "    </tr>\n",
       "    <tr>\n",
       "      <th>6</th>\n",
       "      <td>onnet_mou_8</td>\n",
       "      <td>1172</td>\n",
       "    </tr>\n",
       "    <tr>\n",
       "      <th>7</th>\n",
       "      <td>offnet_mou_6</td>\n",
       "      <td>542</td>\n",
       "    </tr>\n",
       "    <tr>\n",
       "      <th>8</th>\n",
       "      <td>offnet_mou_7</td>\n",
       "      <td>536</td>\n",
       "    </tr>\n",
       "  </tbody>\n",
       "</table>\n",
       "</div>"
      ],
      "text/plain": [
       "     Attributes  NoOfNulls\n",
       "4   onnet_mou_6        542\n",
       "5   onnet_mou_7        536\n",
       "6   onnet_mou_8       1172\n",
       "7  offnet_mou_6        542\n",
       "8  offnet_mou_7        536"
      ]
     },
     "execution_count": 49,
     "metadata": {},
     "output_type": "execute_result"
    }
   ],
   "source": [
    "#Taking columns where > 0.7 percentile rows are NA:-\n",
    "no_of_null[no_of_null['NoOfNulls'] > 0].head()"
   ]
  },
  {
   "cell_type": "code",
   "execution_count": 50,
   "metadata": {},
   "outputs": [],
   "source": [
    "## Replacing Numeric 'NaN' values as ZEROs"
   ]
  },
  {
   "cell_type": "code",
   "execution_count": 51,
   "metadata": {},
   "outputs": [],
   "source": [
    "telecom_data_new[numlist] = telecom_data_new[numlist].replace(np.nan, 0, regex=True)"
   ]
  },
  {
   "cell_type": "code",
   "execution_count": 52,
   "metadata": {},
   "outputs": [
    {
     "name": "stdout",
     "output_type": "stream",
     "text": [
      "<class 'pandas.core.frame.DataFrame'>\n",
      "Int64Index: 29953 entries, 0 to 99997\n",
      "Columns: 155 entries, mobile_number to Recency_last_recharge\n",
      "dtypes: float64(127), int32(1), int64(27)\n",
      "memory usage: 35.5 MB\n"
     ]
    }
   ],
   "source": [
    "telecom_data_new[numlist].info()"
   ]
  },
  {
   "cell_type": "code",
   "execution_count": 53,
   "metadata": {},
   "outputs": [],
   "source": [
    "#Handling Outliers - Numeric variables\n",
    "def outlier_capping(x):\n",
    "    x = x.clip_upper(x.quantile(0.90))\n",
    "    x = x.clip_lower(x.quantile(0.01))\n",
    "    return x"
   ]
  },
  {
   "cell_type": "code",
   "execution_count": 54,
   "metadata": {},
   "outputs": [],
   "source": [
    "telecom_data_new[numlist]=telecom_data_new[numlist].apply(lambda x: outlier_capping(x))"
   ]
  },
  {
   "cell_type": "markdown",
   "metadata": {},
   "source": [
    "**Working with categorical varaibles**"
   ]
  },
  {
   "cell_type": "code",
   "execution_count": 55,
   "metadata": {},
   "outputs": [
    {
     "data": {
      "text/html": [
       "<div>\n",
       "<style scoped>\n",
       "    .dataframe tbody tr th:only-of-type {\n",
       "        vertical-align: middle;\n",
       "    }\n",
       "\n",
       "    .dataframe tbody tr th {\n",
       "        vertical-align: top;\n",
       "    }\n",
       "\n",
       "    .dataframe thead th {\n",
       "        text-align: right;\n",
       "    }\n",
       "</style>\n",
       "<table border=\"1\" class=\"dataframe\">\n",
       "  <thead>\n",
       "    <tr style=\"text-align: right;\">\n",
       "      <th></th>\n",
       "      <th>loc_og_t2o_mou</th>\n",
       "      <th>std_og_t2o_mou</th>\n",
       "      <th>loc_ic_t2o_mou</th>\n",
       "      <th>night_pck_user_6</th>\n",
       "      <th>night_pck_user_7</th>\n",
       "      <th>night_pck_user_8</th>\n",
       "      <th>fb_user_6</th>\n",
       "      <th>fb_user_7</th>\n",
       "      <th>fb_user_8</th>\n",
       "      <th>CHURN_IND</th>\n",
       "    </tr>\n",
       "  </thead>\n",
       "  <tbody>\n",
       "    <tr>\n",
       "      <th>0</th>\n",
       "      <td>0.0</td>\n",
       "      <td>0.0</td>\n",
       "      <td>0.0</td>\n",
       "      <td>0.0</td>\n",
       "      <td>0.0</td>\n",
       "      <td>0.0</td>\n",
       "      <td>1.0</td>\n",
       "      <td>1.0</td>\n",
       "      <td>1.0</td>\n",
       "      <td>1</td>\n",
       "    </tr>\n",
       "    <tr>\n",
       "      <th>7</th>\n",
       "      <td>0.0</td>\n",
       "      <td>0.0</td>\n",
       "      <td>0.0</td>\n",
       "      <td>NaN</td>\n",
       "      <td>NaN</td>\n",
       "      <td>NaN</td>\n",
       "      <td>NaN</td>\n",
       "      <td>NaN</td>\n",
       "      <td>NaN</td>\n",
       "      <td>1</td>\n",
       "    </tr>\n",
       "    <tr>\n",
       "      <th>8</th>\n",
       "      <td>0.0</td>\n",
       "      <td>0.0</td>\n",
       "      <td>0.0</td>\n",
       "      <td>NaN</td>\n",
       "      <td>0.0</td>\n",
       "      <td>0.0</td>\n",
       "      <td>NaN</td>\n",
       "      <td>1.0</td>\n",
       "      <td>1.0</td>\n",
       "      <td>0</td>\n",
       "    </tr>\n",
       "    <tr>\n",
       "      <th>21</th>\n",
       "      <td>0.0</td>\n",
       "      <td>0.0</td>\n",
       "      <td>0.0</td>\n",
       "      <td>NaN</td>\n",
       "      <td>NaN</td>\n",
       "      <td>NaN</td>\n",
       "      <td>NaN</td>\n",
       "      <td>NaN</td>\n",
       "      <td>NaN</td>\n",
       "      <td>0</td>\n",
       "    </tr>\n",
       "    <tr>\n",
       "      <th>23</th>\n",
       "      <td>0.0</td>\n",
       "      <td>0.0</td>\n",
       "      <td>0.0</td>\n",
       "      <td>NaN</td>\n",
       "      <td>0.0</td>\n",
       "      <td>0.0</td>\n",
       "      <td>NaN</td>\n",
       "      <td>1.0</td>\n",
       "      <td>1.0</td>\n",
       "      <td>0</td>\n",
       "    </tr>\n",
       "  </tbody>\n",
       "</table>\n",
       "</div>"
      ],
      "text/plain": [
       "    loc_og_t2o_mou  std_og_t2o_mou  loc_ic_t2o_mou  night_pck_user_6  \\\n",
       "0              0.0             0.0             0.0               0.0   \n",
       "7              0.0             0.0             0.0               NaN   \n",
       "8              0.0             0.0             0.0               NaN   \n",
       "21             0.0             0.0             0.0               NaN   \n",
       "23             0.0             0.0             0.0               NaN   \n",
       "\n",
       "    night_pck_user_7  night_pck_user_8  fb_user_6  fb_user_7  fb_user_8  \\\n",
       "0                0.0               0.0        1.0        1.0        1.0   \n",
       "7                NaN               NaN        NaN        NaN        NaN   \n",
       "8                0.0               0.0        NaN        1.0        1.0   \n",
       "21               NaN               NaN        NaN        NaN        NaN   \n",
       "23               0.0               0.0        NaN        1.0        1.0   \n",
       "\n",
       "    CHURN_IND  \n",
       "0           1  \n",
       "7           1  \n",
       "8           0  \n",
       "21          0  \n",
       "23          0  "
      ]
     },
     "execution_count": 55,
     "metadata": {},
     "output_type": "execute_result"
    }
   ],
   "source": [
    "telecom_data_new[cat_list].head()"
   ]
  },
  {
   "cell_type": "code",
   "execution_count": 56,
   "metadata": {},
   "outputs": [
    {
     "data": {
      "text/plain": [
       "loc_og_t2o_mou      False\n",
       "std_og_t2o_mou      False\n",
       "loc_ic_t2o_mou      False\n",
       "night_pck_user_6     True\n",
       "night_pck_user_7     True\n",
       "night_pck_user_8     True\n",
       "fb_user_6            True\n",
       "fb_user_7            True\n",
       "fb_user_8            True\n",
       "CHURN_IND           False\n",
       "dtype: bool"
      ]
     },
     "execution_count": 56,
     "metadata": {},
     "output_type": "execute_result"
    }
   ],
   "source": [
    "telecom_data_new[cat_list].isnull().any()"
   ]
  },
  {
   "cell_type": "code",
   "execution_count": 57,
   "metadata": {},
   "outputs": [],
   "source": [
    "list_to_replace = ['night_pck_user_6', 'night_pck_user_7', 'night_pck_user_8', 'fb_user_6', 'fb_user_7', 'fb_user_8']"
   ]
  },
  {
   "cell_type": "code",
   "execution_count": 58,
   "metadata": {},
   "outputs": [],
   "source": [
    "#missing values can be imputed with '-1' where -1 can be treated as a new category. \n",
    "telecom_data_new[list_to_replace] = telecom_data_new[list_to_replace].replace(np.nan, -1, regex=True)"
   ]
  },
  {
   "cell_type": "code",
   "execution_count": 59,
   "metadata": {},
   "outputs": [],
   "source": [
    "#any categorical variables in float format needs to be converted to int format\n",
    "telecom_data_new[cat_list] = telecom_data_new[cat_list].astype('int')"
   ]
  },
  {
   "cell_type": "markdown",
   "metadata": {},
   "source": [
    "    There are multiple columns which have only single value type - we can drop them."
   ]
  },
  {
   "cell_type": "code",
   "execution_count": 60,
   "metadata": {},
   "outputs": [
    {
     "name": "stdout",
     "output_type": "stream",
     "text": [
      "['std_og_t2c_mou_6', 'std_og_t2c_mou_7', 'std_og_t2c_mou_8', 'isd_og_mou_6', 'isd_og_mou_7', 'isd_og_mou_8', 'og_others_7', 'og_others_8', 'std_ic_t2o_mou_6', 'std_ic_t2o_mou_7', 'std_ic_t2o_mou_8', 'spl_ic_mou_7', 'spl_ic_mou_8', 'sachet_3g_8']\n"
     ]
    }
   ],
   "source": [
    "singlelist=[]\n",
    "for x in telecom_data_new.columns:\n",
    "    if (telecom_data_new[x].nunique() == 1):\n",
    "        singlelist.append(x)\n",
    "\n",
    "print (singlelist)"
   ]
  },
  {
   "cell_type": "code",
   "execution_count": 61,
   "metadata": {},
   "outputs": [],
   "source": [
    "telecom_data_new.drop(singlelist,axis=1, inplace=True)"
   ]
  },
  {
   "cell_type": "code",
   "execution_count": 62,
   "metadata": {},
   "outputs": [
    {
     "name": "stdout",
     "output_type": "stream",
     "text": [
      "loc_og_t2o_mou\n",
      "[0 1]\n",
      "std_og_t2o_mou\n",
      "[0 1]\n",
      "loc_ic_t2o_mou\n",
      "[0 1]\n",
      "night_pck_user_6\n",
      "[ 0 -1  1]\n",
      "night_pck_user_7\n",
      "[ 0 -1  1]\n",
      "night_pck_user_8\n",
      "[ 0 -1  1]\n",
      "fb_user_6\n",
      "[ 1 -1  0]\n",
      "fb_user_7\n",
      "[ 1 -1  0]\n",
      "fb_user_8\n",
      "[ 1 -1  0]\n",
      "CHURN_IND\n",
      "[1 0]\n"
     ]
    }
   ],
   "source": [
    "for x in cat_list:\n",
    "    print(x)\n",
    "    print(telecom_data_new[x].unique())"
   ]
  },
  {
   "cell_type": "code",
   "execution_count": 63,
   "metadata": {},
   "outputs": [
    {
     "name": "stdout",
     "output_type": "stream",
     "text": [
      "<class 'pandas.core.frame.DataFrame'>\n",
      "Int64Index: 29953 entries, 0 to 99997\n",
      "Columns: 151 entries, mobile_number to CHURN_IND\n",
      "dtypes: float64(141), int32(10)\n",
      "memory usage: 33.6 MB\n"
     ]
    }
   ],
   "source": [
    "telecom_data_new.info()"
   ]
  },
  {
   "cell_type": "code",
   "execution_count": 64,
   "metadata": {},
   "outputs": [
    {
     "name": "stdout",
     "output_type": "stream",
     "text": [
      "   fb_user_6  CHURN_IND  mobile_number\n",
      "0         -1          0      90.153756\n",
      "1         -1          1       9.846244\n",
      "2          0          0      92.270048\n",
      "3          0          1       7.729952\n",
      "4          1          0      93.314490\n",
      "5          1          1       6.685510\n",
      "3    7.7\n",
      "Name: mobile_number, dtype: float64\n",
      "5    6.7\n",
      "Name: mobile_number, dtype: float64\n",
      "1    9.8\n",
      "Name: mobile_number, dtype: float64\n"
     ]
    }
   ],
   "source": [
    "to = telecom_data_new.groupby(['fb_user_6', 'CHURN_IND']).agg({'mobile_number': 'sum'})\n",
    "# Change: groupby state_office and divide by sum\n",
    "to_pcts = to.groupby(level=0).apply(lambda x:100 * x / float(x.sum())).reset_index()\n",
    "print (to_pcts)\n",
    "pct0 = to_pcts.mobile_number[(to_pcts.CHURN_IND==1) & (to_pcts.fb_user_6 == 0)].round(1)\n",
    "pct1 = to_pcts.mobile_number[(to_pcts.CHURN_IND==1) & (to_pcts.fb_user_6 == 1)].round(1)\n",
    "pctminus1 = to_pcts.mobile_number[(to_pcts.CHURN_IND==1) & (to_pcts.fb_user_6 == -1)].round(1)\n",
    "print(pct0)\n",
    "print (pct1)\n",
    "print (pctminus1)"
   ]
  },
  {
   "cell_type": "markdown",
   "metadata": {},
   "source": [
    "## Logistic Regression"
   ]
  },
  {
   "cell_type": "code",
   "execution_count": 65,
   "metadata": {},
   "outputs": [
    {
     "data": {
      "text/html": [
       "<div>\n",
       "<style scoped>\n",
       "    .dataframe tbody tr th:only-of-type {\n",
       "        vertical-align: middle;\n",
       "    }\n",
       "\n",
       "    .dataframe tbody tr th {\n",
       "        vertical-align: top;\n",
       "    }\n",
       "\n",
       "    .dataframe thead th {\n",
       "        text-align: right;\n",
       "    }\n",
       "</style>\n",
       "<table border=\"1\" class=\"dataframe\">\n",
       "  <thead>\n",
       "    <tr style=\"text-align: right;\">\n",
       "      <th></th>\n",
       "      <th>mobile_number</th>\n",
       "      <th>loc_og_t2o_mou</th>\n",
       "      <th>std_og_t2o_mou</th>\n",
       "      <th>loc_ic_t2o_mou</th>\n",
       "      <th>arpu_6</th>\n",
       "      <th>arpu_7</th>\n",
       "      <th>arpu_8</th>\n",
       "      <th>onnet_mou_6</th>\n",
       "      <th>onnet_mou_7</th>\n",
       "      <th>onnet_mou_8</th>\n",
       "      <th>...</th>\n",
       "      <th>aug_vbc_3g</th>\n",
       "      <th>jul_vbc_3g</th>\n",
       "      <th>jun_vbc_3g</th>\n",
       "      <th>sep_vbc_3g</th>\n",
       "      <th>total_rech_amt_data_6</th>\n",
       "      <th>total_rech_amt_data_7</th>\n",
       "      <th>avg_rech_amt_6_7</th>\n",
       "      <th>Frequency_recharge</th>\n",
       "      <th>Recency_last_recharge</th>\n",
       "      <th>CHURN_IND</th>\n",
       "    </tr>\n",
       "  </thead>\n",
       "  <tbody>\n",
       "    <tr>\n",
       "      <th>0</th>\n",
       "      <td>7.000843e+09</td>\n",
       "      <td>0</td>\n",
       "      <td>0</td>\n",
       "      <td>0</td>\n",
       "      <td>197.3850</td>\n",
       "      <td>214.8160</td>\n",
       "      <td>213.8030</td>\n",
       "      <td>0.00</td>\n",
       "      <td>0.00</td>\n",
       "      <td>0.00</td>\n",
       "      <td>...</td>\n",
       "      <td>30.40</td>\n",
       "      <td>0.00</td>\n",
       "      <td>101.20</td>\n",
       "      <td>0.91</td>\n",
       "      <td>252.0</td>\n",
       "      <td>252.0</td>\n",
       "      <td>559.0</td>\n",
       "      <td>3.0</td>\n",
       "      <td>2.0</td>\n",
       "      <td>1</td>\n",
       "    </tr>\n",
       "    <tr>\n",
       "      <th>7</th>\n",
       "      <td>7.000702e+09</td>\n",
       "      <td>0</td>\n",
       "      <td>0</td>\n",
       "      <td>0</td>\n",
       "      <td>994.4086</td>\n",
       "      <td>996.1706</td>\n",
       "      <td>977.5464</td>\n",
       "      <td>57.84</td>\n",
       "      <td>54.68</td>\n",
       "      <td>52.29</td>\n",
       "      <td>...</td>\n",
       "      <td>57.74</td>\n",
       "      <td>19.38</td>\n",
       "      <td>18.74</td>\n",
       "      <td>0.00</td>\n",
       "      <td>0.0</td>\n",
       "      <td>0.0</td>\n",
       "      <td>1185.0</td>\n",
       "      <td>3.0</td>\n",
       "      <td>0.0</td>\n",
       "      <td>1</td>\n",
       "    </tr>\n",
       "    <tr>\n",
       "      <th>8</th>\n",
       "      <td>7.001525e+09</td>\n",
       "      <td>0</td>\n",
       "      <td>0</td>\n",
       "      <td>0</td>\n",
       "      <td>378.7210</td>\n",
       "      <td>492.2230</td>\n",
       "      <td>137.3620</td>\n",
       "      <td>413.69</td>\n",
       "      <td>351.03</td>\n",
       "      <td>35.08</td>\n",
       "      <td>...</td>\n",
       "      <td>21.03</td>\n",
       "      <td>611.80</td>\n",
       "      <td>122.16</td>\n",
       "      <td>0.00</td>\n",
       "      <td>0.0</td>\n",
       "      <td>354.0</td>\n",
       "      <td>696.0</td>\n",
       "      <td>3.0</td>\n",
       "      <td>0.0</td>\n",
       "      <td>0</td>\n",
       "    </tr>\n",
       "    <tr>\n",
       "      <th>21</th>\n",
       "      <td>7.002124e+09</td>\n",
       "      <td>0</td>\n",
       "      <td>0</td>\n",
       "      <td>0</td>\n",
       "      <td>514.4530</td>\n",
       "      <td>597.7530</td>\n",
       "      <td>637.7600</td>\n",
       "      <td>102.41</td>\n",
       "      <td>132.11</td>\n",
       "      <td>85.14</td>\n",
       "      <td>...</td>\n",
       "      <td>0.00</td>\n",
       "      <td>0.00</td>\n",
       "      <td>0.00</td>\n",
       "      <td>0.00</td>\n",
       "      <td>0.0</td>\n",
       "      <td>0.0</td>\n",
       "      <td>640.0</td>\n",
       "      <td>3.0</td>\n",
       "      <td>0.0</td>\n",
       "      <td>0</td>\n",
       "    </tr>\n",
       "    <tr>\n",
       "      <th>23</th>\n",
       "      <td>7.000887e+09</td>\n",
       "      <td>0</td>\n",
       "      <td>0</td>\n",
       "      <td>0</td>\n",
       "      <td>74.3500</td>\n",
       "      <td>193.8970</td>\n",
       "      <td>366.9660</td>\n",
       "      <td>48.96</td>\n",
       "      <td>50.66</td>\n",
       "      <td>33.58</td>\n",
       "      <td>...</td>\n",
       "      <td>40.45</td>\n",
       "      <td>51.86</td>\n",
       "      <td>0.00</td>\n",
       "      <td>0.00</td>\n",
       "      <td>0.0</td>\n",
       "      <td>712.0</td>\n",
       "      <td>583.0</td>\n",
       "      <td>3.0</td>\n",
       "      <td>2.0</td>\n",
       "      <td>0</td>\n",
       "    </tr>\n",
       "  </tbody>\n",
       "</table>\n",
       "<p>5 rows × 151 columns</p>\n",
       "</div>"
      ],
      "text/plain": [
       "    mobile_number  loc_og_t2o_mou  std_og_t2o_mou  loc_ic_t2o_mou    arpu_6  \\\n",
       "0    7.000843e+09               0               0               0  197.3850   \n",
       "7    7.000702e+09               0               0               0  994.4086   \n",
       "8    7.001525e+09               0               0               0  378.7210   \n",
       "21   7.002124e+09               0               0               0  514.4530   \n",
       "23   7.000887e+09               0               0               0   74.3500   \n",
       "\n",
       "      arpu_7    arpu_8  onnet_mou_6  onnet_mou_7  onnet_mou_8    ...      \\\n",
       "0   214.8160  213.8030         0.00         0.00         0.00    ...       \n",
       "7   996.1706  977.5464        57.84        54.68        52.29    ...       \n",
       "8   492.2230  137.3620       413.69       351.03        35.08    ...       \n",
       "21  597.7530  637.7600       102.41       132.11        85.14    ...       \n",
       "23  193.8970  366.9660        48.96        50.66        33.58    ...       \n",
       "\n",
       "    aug_vbc_3g  jul_vbc_3g  jun_vbc_3g  sep_vbc_3g  total_rech_amt_data_6  \\\n",
       "0        30.40        0.00      101.20        0.91                  252.0   \n",
       "7        57.74       19.38       18.74        0.00                    0.0   \n",
       "8        21.03      611.80      122.16        0.00                    0.0   \n",
       "21        0.00        0.00        0.00        0.00                    0.0   \n",
       "23       40.45       51.86        0.00        0.00                    0.0   \n",
       "\n",
       "    total_rech_amt_data_7  avg_rech_amt_6_7  Frequency_recharge  \\\n",
       "0                   252.0             559.0                 3.0   \n",
       "7                     0.0            1185.0                 3.0   \n",
       "8                   354.0             696.0                 3.0   \n",
       "21                    0.0             640.0                 3.0   \n",
       "23                  712.0             583.0                 3.0   \n",
       "\n",
       "    Recency_last_recharge  CHURN_IND  \n",
       "0                     2.0          1  \n",
       "7                     0.0          1  \n",
       "8                     0.0          0  \n",
       "21                    0.0          0  \n",
       "23                    2.0          0  \n",
       "\n",
       "[5 rows x 151 columns]"
      ]
     },
     "execution_count": 65,
     "metadata": {},
     "output_type": "execute_result"
    }
   ],
   "source": [
    "telecom_data_new.head()"
   ]
  },
  {
   "cell_type": "code",
   "execution_count": 66,
   "metadata": {},
   "outputs": [],
   "source": [
    "from sklearn.model_selection import train_test_split\n",
    "# Putting feature variable to X\n",
    "X = telecom_data_new.drop(['CHURN_IND','mobile_number'],axis=1)\n",
    "\n",
    "# Putting response variable to y\n",
    "y = telecom_data_new['CHURN_IND']"
   ]
  },
  {
   "cell_type": "code",
   "execution_count": 67,
   "metadata": {},
   "outputs": [],
   "source": [
    "# Splitting the data into train and test\n",
    "X_train, X_test, y_train, y_test = train_test_split(X,y, train_size=0.7,test_size=0.3,random_state=100)"
   ]
  },
  {
   "cell_type": "code",
   "execution_count": 70,
   "metadata": {},
   "outputs": [
    {
     "name": "stdout",
     "output_type": "stream",
     "text": [
      "[ True  True  True False False False False False False False False False\n",
      " False False False False False False False False False False False False\n",
      " False False False False False False False False False False False False\n",
      " False False False False False  True False False False False False False\n",
      " False False False False False False False False False False False False\n",
      " False False False False False False False False False False False False\n",
      "  True False False False False False False False False False False  True\n",
      " False  True False False False False False False False False False False\n",
      " False False False False  True False False False False False  True  True\n",
      " False False False False False False False False False False False False\n",
      " False False False False False False False  True False False  True False\n",
      " False  True False False False False False False False False False  True\n",
      " False False False  True False]\n",
      "[  1   1   1 124  52  95  81 104  68  57  82  69  36  78  64 100  33  20\n",
      "  47  72  44  86 133  53 135  34  11  37  23  99  56  76  54 120 110 119\n",
      "  58  91  90  29  10   1 115 125 106 107 128  22  13 116  83 108  85 105\n",
      "  35  45 121  42 118 132  21  87 130  43  80  28  27 134 127  31  67  26\n",
      "   1  39  94  93 102  79  97   5  25  32  96   1  24   1 123  71  15 129\n",
      "  75  74  98  59  73  89  50  38 117  51   1  48  40 103   8  18   1   1\n",
      "  14  12  62  84  46 131 114  66  49  41  63 111 113  60  16  70   3   7\n",
      "   9   1  19  61   1  55  77   1  88   4  17  30   2 122  92 112  65   1\n",
      " 109 126 101   1   6]\n"
     ]
    }
   ],
   "source": [
    "from sklearn.linear_model import LogisticRegression\n",
    "logreg = LogisticRegression()\n",
    "from sklearn.feature_selection import RFE\n",
    "rfe = RFE(logreg, 15)             # running RFE with 13 variables as output\n",
    "rfe = rfe.fit(X,y)\n",
    "print(rfe.support_)           # Printing the boolean results\n",
    "print(rfe.ranking_) "
   ]
  },
  {
   "cell_type": "code",
   "execution_count": 71,
   "metadata": {},
   "outputs": [],
   "source": [
    "RFECols = X_train.columns[rfe.support_]"
   ]
  },
  {
   "cell_type": "code",
   "execution_count": 72,
   "metadata": {},
   "outputs": [
    {
     "data": {
      "text/plain": [
       "Index(['loc_og_t2o_mou', 'std_og_t2o_mou', 'loc_ic_t2o_mou',\n",
       "       'std_og_t2f_mou_8', 'std_ic_t2f_mou_8', 'ic_others_6', 'ic_others_8',\n",
       "       'total_rech_data_8', 'count_rech_2g_8', 'count_rech_3g_6',\n",
       "       'monthly_2g_8', 'sachet_2g_8', 'monthly_3g_8', 'sep_vbc_3g',\n",
       "       'Frequency_recharge'],\n",
       "      dtype='object')"
      ]
     },
     "execution_count": 72,
     "metadata": {},
     "output_type": "execute_result"
    }
   ],
   "source": [
    "RFECols"
   ]
  },
  {
   "cell_type": "code",
   "execution_count": 77,
   "metadata": {},
   "outputs": [],
   "source": [
    "X_train_rfe1 = X_train[RFECols]"
   ]
  },
  {
   "cell_type": "markdown",
   "metadata": {},
   "source": [
    "### Running logistic regression with rfe columns"
   ]
  },
  {
   "cell_type": "code",
   "execution_count": 78,
   "metadata": {},
   "outputs": [
    {
     "data": {
      "text/plain": [
       "LogisticRegression(C=1.0, class_weight=None, dual=False, fit_intercept=True,\n",
       "          intercept_scaling=1, max_iter=100, multi_class='ovr', n_jobs=1,\n",
       "          penalty='l2', random_state=None, solver='liblinear', tol=0.0001,\n",
       "          verbose=0, warm_start=False)"
      ]
     },
     "execution_count": 78,
     "metadata": {},
     "output_type": "execute_result"
    }
   ],
   "source": [
    "# Let's run the model using the selected variables\n",
    "from sklearn.linear_model import LogisticRegression\n",
    "from sklearn import metrics\n",
    "logsk = LogisticRegression()\n",
    "\n",
    "logsk.fit(X_train_rfe1, y_train)"
   ]
  },
  {
   "cell_type": "code",
   "execution_count": 79,
   "metadata": {},
   "outputs": [
    {
     "data": {
      "text/html": [
       "<table class=\"simpletable\">\n",
       "<caption>Generalized Linear Model Regression Results</caption>\n",
       "<tr>\n",
       "  <th>Dep. Variable:</th>      <td>CHURN_IND</td>    <th>  No. Observations:  </th>  <td> 20967</td> \n",
       "</tr>\n",
       "<tr>\n",
       "  <th>Model:</th>                 <td>GLM</td>       <th>  Df Residuals:      </th>  <td> 20953</td> \n",
       "</tr>\n",
       "<tr>\n",
       "  <th>Model Family:</th>       <td>Binomial</td>     <th>  Df Model:          </th>  <td>    13</td> \n",
       "</tr>\n",
       "<tr>\n",
       "  <th>Link Function:</th>        <td>logit</td>      <th>  Scale:             </th>    <td>1.0</td>  \n",
       "</tr>\n",
       "<tr>\n",
       "  <th>Method:</th>               <td>IRLS</td>       <th>  Log-Likelihood:    </th> <td> -4855.1</td>\n",
       "</tr>\n",
       "<tr>\n",
       "  <th>Date:</th>           <td>Fri, 24 Aug 2018</td> <th>  Deviance:          </th> <td>  9710.1</td>\n",
       "</tr>\n",
       "<tr>\n",
       "  <th>Time:</th>               <td>01:51:39</td>     <th>  Pearson chi2:      </th> <td>2.60e+04</td>\n",
       "</tr>\n",
       "<tr>\n",
       "  <th>No. Iterations:</th>         <td>8</td>        <th>                     </th>     <td> </td>   \n",
       "</tr>\n",
       "</table>\n",
       "<table class=\"simpletable\">\n",
       "<tr>\n",
       "           <td></td>             <th>coef</th>     <th>std err</th>      <th>z</th>      <th>P>|z|</th>  <th>[0.025</th>    <th>0.975]</th>  \n",
       "</tr>\n",
       "<tr>\n",
       "  <th>const</th>              <td>    3.9493</td> <td>    0.302</td> <td>   13.064</td> <td> 0.000</td> <td>    3.357</td> <td>    4.542</td>\n",
       "</tr>\n",
       "<tr>\n",
       "  <th>loc_og_t2o_mou</th>     <td>    0.6590</td> <td>    0.068</td> <td>    9.720</td> <td> 0.000</td> <td>    0.526</td> <td>    0.792</td>\n",
       "</tr>\n",
       "<tr>\n",
       "  <th>std_og_t2o_mou</th>     <td>    0.6590</td> <td>    0.068</td> <td>    9.720</td> <td> 0.000</td> <td>    0.526</td> <td>    0.792</td>\n",
       "</tr>\n",
       "<tr>\n",
       "  <th>loc_ic_t2o_mou</th>     <td>    0.6590</td> <td>    0.068</td> <td>    9.720</td> <td> 0.000</td> <td>    0.526</td> <td>    0.792</td>\n",
       "</tr>\n",
       "<tr>\n",
       "  <th>std_og_t2f_mou_8</th>   <td>   -0.9878</td> <td>    0.130</td> <td>   -7.573</td> <td> 0.000</td> <td>   -1.243</td> <td>   -0.732</td>\n",
       "</tr>\n",
       "<tr>\n",
       "  <th>std_ic_t2f_mou_8</th>   <td>   -0.4504</td> <td>    0.047</td> <td>   -9.500</td> <td> 0.000</td> <td>   -0.543</td> <td>   -0.357</td>\n",
       "</tr>\n",
       "<tr>\n",
       "  <th>ic_others_6</th>        <td>    0.3188</td> <td>    0.083</td> <td>    3.830</td> <td> 0.000</td> <td>    0.156</td> <td>    0.482</td>\n",
       "</tr>\n",
       "<tr>\n",
       "  <th>ic_others_8</th>        <td>   -1.3283</td> <td>    0.124</td> <td>  -10.686</td> <td> 0.000</td> <td>   -1.572</td> <td>   -1.085</td>\n",
       "</tr>\n",
       "<tr>\n",
       "  <th>total_rech_data_8</th>  <td>   -0.5529</td> <td>    0.089</td> <td>   -6.187</td> <td> 0.000</td> <td>   -0.728</td> <td>   -0.378</td>\n",
       "</tr>\n",
       "<tr>\n",
       "  <th>count_rech_2g_8</th>    <td>   -0.8392</td> <td>    0.689</td> <td>   -1.218</td> <td> 0.223</td> <td>   -2.189</td> <td>    0.511</td>\n",
       "</tr>\n",
       "<tr>\n",
       "  <th>count_rech_3g_6</th>    <td>    0.5516</td> <td>    0.074</td> <td>    7.456</td> <td> 0.000</td> <td>    0.407</td> <td>    0.697</td>\n",
       "</tr>\n",
       "<tr>\n",
       "  <th>monthly_2g_8</th>       <td>   -0.5151</td> <td>    0.704</td> <td>   -0.732</td> <td> 0.464</td> <td>   -1.895</td> <td>    0.865</td>\n",
       "</tr>\n",
       "<tr>\n",
       "  <th>sachet_2g_8</th>        <td>    0.9748</td> <td>    0.683</td> <td>    1.427</td> <td> 0.154</td> <td>   -0.364</td> <td>    2.314</td>\n",
       "</tr>\n",
       "<tr>\n",
       "  <th>monthly_3g_8</th>       <td>   -1.1645</td> <td>    0.168</td> <td>   -6.935</td> <td> 0.000</td> <td>   -1.494</td> <td>   -0.835</td>\n",
       "</tr>\n",
       "<tr>\n",
       "  <th>sep_vbc_3g</th>         <td>   -2.5996</td> <td>    0.335</td> <td>   -7.751</td> <td> 0.000</td> <td>   -3.257</td> <td>   -1.942</td>\n",
       "</tr>\n",
       "<tr>\n",
       "  <th>Frequency_recharge</th> <td>   -1.8833</td> <td>    0.103</td> <td>  -18.288</td> <td> 0.000</td> <td>   -2.085</td> <td>   -1.681</td>\n",
       "</tr>\n",
       "</table>"
      ],
      "text/plain": [
       "<class 'statsmodels.iolib.summary.Summary'>\n",
       "\"\"\"\n",
       "                 Generalized Linear Model Regression Results                  \n",
       "==============================================================================\n",
       "Dep. Variable:              CHURN_IND   No. Observations:                20967\n",
       "Model:                            GLM   Df Residuals:                    20953\n",
       "Model Family:                Binomial   Df Model:                           13\n",
       "Link Function:                  logit   Scale:                             1.0\n",
       "Method:                          IRLS   Log-Likelihood:                -4855.1\n",
       "Date:                Fri, 24 Aug 2018   Deviance:                       9710.1\n",
       "Time:                        01:51:39   Pearson chi2:                 2.60e+04\n",
       "No. Iterations:                     8                                         \n",
       "======================================================================================\n",
       "                         coef    std err          z      P>|z|      [0.025      0.975]\n",
       "--------------------------------------------------------------------------------------\n",
       "const                  3.9493      0.302     13.064      0.000       3.357       4.542\n",
       "loc_og_t2o_mou         0.6590      0.068      9.720      0.000       0.526       0.792\n",
       "std_og_t2o_mou         0.6590      0.068      9.720      0.000       0.526       0.792\n",
       "loc_ic_t2o_mou         0.6590      0.068      9.720      0.000       0.526       0.792\n",
       "std_og_t2f_mou_8      -0.9878      0.130     -7.573      0.000      -1.243      -0.732\n",
       "std_ic_t2f_mou_8      -0.4504      0.047     -9.500      0.000      -0.543      -0.357\n",
       "ic_others_6            0.3188      0.083      3.830      0.000       0.156       0.482\n",
       "ic_others_8           -1.3283      0.124    -10.686      0.000      -1.572      -1.085\n",
       "total_rech_data_8     -0.5529      0.089     -6.187      0.000      -0.728      -0.378\n",
       "count_rech_2g_8       -0.8392      0.689     -1.218      0.223      -2.189       0.511\n",
       "count_rech_3g_6        0.5516      0.074      7.456      0.000       0.407       0.697\n",
       "monthly_2g_8          -0.5151      0.704     -0.732      0.464      -1.895       0.865\n",
       "sachet_2g_8            0.9748      0.683      1.427      0.154      -0.364       2.314\n",
       "monthly_3g_8          -1.1645      0.168     -6.935      0.000      -1.494      -0.835\n",
       "sep_vbc_3g            -2.5996      0.335     -7.751      0.000      -3.257      -1.942\n",
       "Frequency_recharge    -1.8833      0.103    -18.288      0.000      -2.085      -1.681\n",
       "======================================================================================\n",
       "\"\"\""
      ]
     },
     "execution_count": 79,
     "metadata": {},
     "output_type": "execute_result"
    }
   ],
   "source": [
    "import statsmodels.api as sm\n",
    "#Comparing the model with StatsModels\n",
    "logm1 = sm.GLM(y_train,(sm.add_constant(X_train_rfe1)), family = sm.families.Binomial())\n",
    "logm1.fit().summary()"
   ]
  },
  {
   "cell_type": "code",
   "execution_count": 76,
   "metadata": {},
   "outputs": [],
   "source": [
    "# Importing matplotlib and seaborn\n",
    "import matplotlib.pyplot as plt\n",
    "import seaborn as sns\n",
    "%matplotlib inline"
   ]
  },
  {
   "cell_type": "code",
   "execution_count": 80,
   "metadata": {
    "scrolled": true
   },
   "outputs": [
    {
     "data": {
      "text/plain": [
       "<matplotlib.axes._subplots.AxesSubplot at 0x21c0a30fb00>"
      ]
     },
     "execution_count": 80,
     "metadata": {},
     "output_type": "execute_result"
    },
    {
     "data": {
      "image/png": "[encoded data removed]",
      "text/plain": [
       "<matplotlib.figure.Figure at 0x21c0a38d320>"
      ]
     },
     "metadata": {},
     "output_type": "display_data"
    }
   ],
   "source": [
    "plt.figure(figsize = (20,10))        # Size of the figure\n",
    "sns.heatmap(X_train_rfe1.corr(),annot = True)"
   ]
  },
  {
   "cell_type": "code",
   "execution_count": 81,
   "metadata": {},
   "outputs": [],
   "source": [
    "# UDF for calculating vif value\n",
    "def vif_cal(input_data, dependent_col):\n",
    "    vif_df = pd.DataFrame( columns = ['Var', 'Vif'])\n",
    "    x_vars=input_data.drop([dependent_col], axis=1)\n",
    "    xvar_names=x_vars.columns\n",
    "    for i in range(0,xvar_names.shape[0]):\n",
    "        y=x_vars[xvar_names[i]] \n",
    "        x=x_vars[xvar_names.drop(xvar_names[i])]\n",
    "        rsq=sm.OLS(y,x).fit().rsquared  \n",
    "        vif=round(1/(1-rsq),2)\n",
    "        vif_df.loc[i] = [xvar_names[i], vif]\n",
    "    return vif_df.sort_values(by = 'Vif', axis=0, ascending=False, inplace=False)"
   ]
  },
  {
   "cell_type": "code",
   "execution_count": 94,
   "metadata": {},
   "outputs": [
    {
     "data": {
      "text/plain": [
       "Index(['loc_og_t2o_mou', 'std_og_t2o_mou', 'loc_ic_t2o_mou',\n",
       "       'std_og_t2f_mou_8', 'std_ic_t2f_mou_8', 'ic_others_6', 'ic_others_8',\n",
       "       'total_rech_data_8', 'count_rech_2g_8', 'count_rech_3g_6',\n",
       "       'monthly_2g_8', 'sachet_2g_8', 'monthly_3g_8', 'sep_vbc_3g',\n",
       "       'Frequency_recharge'],\n",
       "      dtype='object')"
      ]
     },
     "execution_count": 94,
     "metadata": {},
     "output_type": "execute_result"
    }
   ],
   "source": [
    "RFECols #.insert(0,'test')"
   ]
  },
  {
   "cell_type": "code",
   "execution_count": 96,
   "metadata": {
    "scrolled": true
   },
   "outputs": [
    {
     "name": "stderr",
     "output_type": "stream",
     "text": [
      "C:\\ProgramData\\Anaconda3\\lib\\site-packages\\ipykernel_launcher.py:10: RuntimeWarning: divide by zero encountered in double_scalars\n",
      "  # Remove the CWD from sys.path while we load stuff.\n"
     ]
    },
    {
     "data": {
      "text/html": [
       "<div>\n",
       "<style scoped>\n",
       "    .dataframe tbody tr th:only-of-type {\n",
       "        vertical-align: middle;\n",
       "    }\n",
       "\n",
       "    .dataframe tbody tr th {\n",
       "        vertical-align: top;\n",
       "    }\n",
       "\n",
       "    .dataframe thead th {\n",
       "        text-align: right;\n",
       "    }\n",
       "</style>\n",
       "<table border=\"1\" class=\"dataframe\">\n",
       "  <thead>\n",
       "    <tr style=\"text-align: right;\">\n",
       "      <th></th>\n",
       "      <th>Var</th>\n",
       "      <th>Vif</th>\n",
       "    </tr>\n",
       "  </thead>\n",
       "  <tbody>\n",
       "    <tr>\n",
       "      <th>0</th>\n",
       "      <td>loc_og_t2o_mou</td>\n",
       "      <td>inf</td>\n",
       "    </tr>\n",
       "    <tr>\n",
       "      <th>1</th>\n",
       "      <td>std_og_t2o_mou</td>\n",
       "      <td>inf</td>\n",
       "    </tr>\n",
       "    <tr>\n",
       "      <th>2</th>\n",
       "      <td>loc_ic_t2o_mou</td>\n",
       "      <td>inf</td>\n",
       "    </tr>\n",
       "    <tr>\n",
       "      <th>8</th>\n",
       "      <td>count_rech_2g_8</td>\n",
       "      <td>110.540000</td>\n",
       "    </tr>\n",
       "    <tr>\n",
       "      <th>11</th>\n",
       "      <td>sachet_2g_8</td>\n",
       "      <td>91.950000</td>\n",
       "    </tr>\n",
       "    <tr>\n",
       "      <th>7</th>\n",
       "      <td>total_rech_data_8</td>\n",
       "      <td>13.550000</td>\n",
       "    </tr>\n",
       "    <tr>\n",
       "      <th>10</th>\n",
       "      <td>monthly_2g_8</td>\n",
       "      <td>7.380000</td>\n",
       "    </tr>\n",
       "    <tr>\n",
       "      <th>14</th>\n",
       "      <td>Frequency_recharge</td>\n",
       "      <td>2.510000</td>\n",
       "    </tr>\n",
       "    <tr>\n",
       "      <th>12</th>\n",
       "      <td>monthly_3g_8</td>\n",
       "      <td>2.210000</td>\n",
       "    </tr>\n",
       "    <tr>\n",
       "      <th>9</th>\n",
       "      <td>count_rech_3g_6</td>\n",
       "      <td>1.800000</td>\n",
       "    </tr>\n",
       "    <tr>\n",
       "      <th>4</th>\n",
       "      <td>std_ic_t2f_mou_8</td>\n",
       "      <td>1.480000</td>\n",
       "    </tr>\n",
       "    <tr>\n",
       "      <th>5</th>\n",
       "      <td>ic_others_6</td>\n",
       "      <td>1.440000</td>\n",
       "    </tr>\n",
       "    <tr>\n",
       "      <th>6</th>\n",
       "      <td>ic_others_8</td>\n",
       "      <td>1.440000</td>\n",
       "    </tr>\n",
       "    <tr>\n",
       "      <th>3</th>\n",
       "      <td>std_og_t2f_mou_8</td>\n",
       "      <td>1.370000</td>\n",
       "    </tr>\n",
       "    <tr>\n",
       "      <th>13</th>\n",
       "      <td>sep_vbc_3g</td>\n",
       "      <td>1.170000</td>\n",
       "    </tr>\n",
       "  </tbody>\n",
       "</table>\n",
       "</div>"
      ],
      "text/plain": [
       "                   Var         Vif\n",
       "0       loc_og_t2o_mou         inf\n",
       "1       std_og_t2o_mou         inf\n",
       "2       loc_ic_t2o_mou         inf\n",
       "8      count_rech_2g_8  110.540000\n",
       "11         sachet_2g_8   91.950000\n",
       "7    total_rech_data_8   13.550000\n",
       "10        monthly_2g_8    7.380000\n",
       "14  Frequency_recharge    2.510000\n",
       "12        monthly_3g_8    2.210000\n",
       "9      count_rech_3g_6    1.800000\n",
       "4     std_ic_t2f_mou_8    1.480000\n",
       "5          ic_others_6    1.440000\n",
       "6          ic_others_8    1.440000\n",
       "3     std_og_t2f_mou_8    1.370000\n",
       "13          sep_vbc_3g    1.170000"
      ]
     },
     "execution_count": 96,
     "metadata": {},
     "output_type": "execute_result"
    }
   ],
   "source": [
    "# Calculating Vif value\n",
    "vif_cal(input_data=telecom_data_new[RFECols.insert(0,'CHURN_IND')], dependent_col='CHURN_IND')"
   ]
  },
  {
   "cell_type": "code",
   "execution_count": 101,
   "metadata": {},
   "outputs": [
    {
     "data": {
      "text/html": [
       "<div>\n",
       "<style scoped>\n",
       "    .dataframe tbody tr th:only-of-type {\n",
       "        vertical-align: middle;\n",
       "    }\n",
       "\n",
       "    .dataframe tbody tr th {\n",
       "        vertical-align: top;\n",
       "    }\n",
       "\n",
       "    .dataframe thead th {\n",
       "        text-align: right;\n",
       "    }\n",
       "</style>\n",
       "<table border=\"1\" class=\"dataframe\">\n",
       "  <thead>\n",
       "    <tr style=\"text-align: right;\">\n",
       "      <th></th>\n",
       "      <th>Var</th>\n",
       "      <th>Vif</th>\n",
       "    </tr>\n",
       "  </thead>\n",
       "  <tbody>\n",
       "    <tr>\n",
       "      <th>5</th>\n",
       "      <td>count_rech_2g_8</td>\n",
       "      <td>110.53</td>\n",
       "    </tr>\n",
       "    <tr>\n",
       "      <th>8</th>\n",
       "      <td>sachet_2g_8</td>\n",
       "      <td>91.94</td>\n",
       "    </tr>\n",
       "    <tr>\n",
       "      <th>4</th>\n",
       "      <td>total_rech_data_8</td>\n",
       "      <td>13.55</td>\n",
       "    </tr>\n",
       "    <tr>\n",
       "      <th>7</th>\n",
       "      <td>monthly_2g_8</td>\n",
       "      <td>7.38</td>\n",
       "    </tr>\n",
       "    <tr>\n",
       "      <th>11</th>\n",
       "      <td>Frequency_recharge</td>\n",
       "      <td>2.50</td>\n",
       "    </tr>\n",
       "    <tr>\n",
       "      <th>9</th>\n",
       "      <td>monthly_3g_8</td>\n",
       "      <td>2.20</td>\n",
       "    </tr>\n",
       "    <tr>\n",
       "      <th>6</th>\n",
       "      <td>count_rech_3g_6</td>\n",
       "      <td>1.79</td>\n",
       "    </tr>\n",
       "    <tr>\n",
       "      <th>1</th>\n",
       "      <td>std_ic_t2f_mou_8</td>\n",
       "      <td>1.48</td>\n",
       "    </tr>\n",
       "    <tr>\n",
       "      <th>2</th>\n",
       "      <td>ic_others_6</td>\n",
       "      <td>1.44</td>\n",
       "    </tr>\n",
       "    <tr>\n",
       "      <th>3</th>\n",
       "      <td>ic_others_8</td>\n",
       "      <td>1.44</td>\n",
       "    </tr>\n",
       "    <tr>\n",
       "      <th>0</th>\n",
       "      <td>std_og_t2f_mou_8</td>\n",
       "      <td>1.37</td>\n",
       "    </tr>\n",
       "    <tr>\n",
       "      <th>10</th>\n",
       "      <td>sep_vbc_3g</td>\n",
       "      <td>1.17</td>\n",
       "    </tr>\n",
       "  </tbody>\n",
       "</table>\n",
       "</div>"
      ],
      "text/plain": [
       "                   Var     Vif\n",
       "5      count_rech_2g_8  110.53\n",
       "8          sachet_2g_8   91.94\n",
       "4    total_rech_data_8   13.55\n",
       "7         monthly_2g_8    7.38\n",
       "11  Frequency_recharge    2.50\n",
       "9         monthly_3g_8    2.20\n",
       "6      count_rech_3g_6    1.79\n",
       "1     std_ic_t2f_mou_8    1.48\n",
       "2          ic_others_6    1.44\n",
       "3          ic_others_8    1.44\n",
       "0     std_og_t2f_mou_8    1.37\n",
       "10          sep_vbc_3g    1.17"
      ]
     },
     "execution_count": 101,
     "metadata": {},
     "output_type": "execute_result"
    }
   ],
   "source": [
    "vif_cal(input_data=telecom_data_new[RFECols.insert(0,'CHURN_IND')].drop(['loc_og_t2o_mou','std_og_t2o_mou','loc_ic_t2o_mou'],axis=1), dependent_col='CHURN_IND')"
   ]
  },
  {
   "cell_type": "code",
   "execution_count": 99,
   "metadata": {
    "collapsed": true
   },
   "outputs": [
    {
     "data": {
      "text/html": [
       "<table class=\"simpletable\">\n",
       "<caption>Generalized Linear Model Regression Results</caption>\n",
       "<tr>\n",
       "  <th>Dep. Variable:</th>      <td>CHURN_IND</td>    <th>  No. Observations:  </th>  <td> 20967</td> \n",
       "</tr>\n",
       "<tr>\n",
       "  <th>Model:</th>                 <td>GLM</td>       <th>  Df Residuals:      </th>  <td> 20954</td> \n",
       "</tr>\n",
       "<tr>\n",
       "  <th>Model Family:</th>       <td>Binomial</td>     <th>  Df Model:          </th>  <td>    12</td> \n",
       "</tr>\n",
       "<tr>\n",
       "  <th>Link Function:</th>        <td>logit</td>      <th>  Scale:             </th>    <td>1.0</td>  \n",
       "</tr>\n",
       "<tr>\n",
       "  <th>Method:</th>               <td>IRLS</td>       <th>  Log-Likelihood:    </th> <td> -4898.8</td>\n",
       "</tr>\n",
       "<tr>\n",
       "  <th>Date:</th>           <td>Sat, 25 Aug 2018</td> <th>  Deviance:          </th> <td>  9797.6</td>\n",
       "</tr>\n",
       "<tr>\n",
       "  <th>Time:</th>               <td>03:45:45</td>     <th>  Pearson chi2:      </th> <td>2.64e+04</td>\n",
       "</tr>\n",
       "<tr>\n",
       "  <th>No. Iterations:</th>         <td>8</td>        <th>                     </th>     <td> </td>   \n",
       "</tr>\n",
       "</table>\n",
       "<table class=\"simpletable\">\n",
       "<tr>\n",
       "           <td></td>             <th>coef</th>     <th>std err</th>      <th>z</th>      <th>P>|z|</th>  <th>[0.025</th>    <th>0.975]</th>  \n",
       "</tr>\n",
       "<tr>\n",
       "  <th>const</th>              <td>    4.0213</td> <td>    0.300</td> <td>   13.386</td> <td> 0.000</td> <td>    3.433</td> <td>    4.610</td>\n",
       "</tr>\n",
       "<tr>\n",
       "  <th>std_og_t2f_mou_8</th>   <td>   -1.0106</td> <td>    0.130</td> <td>   -7.745</td> <td> 0.000</td> <td>   -1.266</td> <td>   -0.755</td>\n",
       "</tr>\n",
       "<tr>\n",
       "  <th>std_ic_t2f_mou_8</th>   <td>   -0.4646</td> <td>    0.048</td> <td>   -9.764</td> <td> 0.000</td> <td>   -0.558</td> <td>   -0.371</td>\n",
       "</tr>\n",
       "<tr>\n",
       "  <th>ic_others_6</th>        <td>    0.2855</td> <td>    0.083</td> <td>    3.434</td> <td> 0.001</td> <td>    0.123</td> <td>    0.448</td>\n",
       "</tr>\n",
       "<tr>\n",
       "  <th>ic_others_8</th>        <td>   -1.3493</td> <td>    0.124</td> <td>  -10.844</td> <td> 0.000</td> <td>   -1.593</td> <td>   -1.105</td>\n",
       "</tr>\n",
       "<tr>\n",
       "  <th>total_rech_data_8</th>  <td>   -0.5611</td> <td>    0.088</td> <td>   -6.366</td> <td> 0.000</td> <td>   -0.734</td> <td>   -0.388</td>\n",
       "</tr>\n",
       "<tr>\n",
       "  <th>count_rech_2g_8</th>    <td>   -0.8155</td> <td>    0.698</td> <td>   -1.169</td> <td> 0.242</td> <td>   -2.183</td> <td>    0.552</td>\n",
       "</tr>\n",
       "<tr>\n",
       "  <th>count_rech_3g_6</th>    <td>    0.6378</td> <td>    0.072</td> <td>    8.841</td> <td> 0.000</td> <td>    0.496</td> <td>    0.779</td>\n",
       "</tr>\n",
       "<tr>\n",
       "  <th>monthly_2g_8</th>       <td>   -0.5435</td> <td>    0.713</td> <td>   -0.763</td> <td> 0.446</td> <td>   -1.941</td> <td>    0.854</td>\n",
       "</tr>\n",
       "<tr>\n",
       "  <th>sachet_2g_8</th>        <td>    0.9523</td> <td>    0.692</td> <td>    1.376</td> <td> 0.169</td> <td>   -0.404</td> <td>    2.309</td>\n",
       "</tr>\n",
       "<tr>\n",
       "  <th>monthly_3g_8</th>       <td>   -0.9776</td> <td>    0.161</td> <td>   -6.081</td> <td> 0.000</td> <td>   -1.293</td> <td>   -0.663</td>\n",
       "</tr>\n",
       "<tr>\n",
       "  <th>sep_vbc_3g</th>         <td>   -2.6713</td> <td>    0.336</td> <td>   -7.959</td> <td> 0.000</td> <td>   -3.329</td> <td>   -2.013</td>\n",
       "</tr>\n",
       "<tr>\n",
       "  <th>Frequency_recharge</th> <td>   -1.9020</td> <td>    0.102</td> <td>  -18.583</td> <td> 0.000</td> <td>   -2.103</td> <td>   -1.701</td>\n",
       "</tr>\n",
       "</table>"
      ],
      "text/plain": [
       "<class 'statsmodels.iolib.summary.Summary'>\n",
       "\"\"\"\n",
       "                 Generalized Linear Model Regression Results                  \n",
       "==============================================================================\n",
       "Dep. Variable:              CHURN_IND   No. Observations:                20967\n",
       "Model:                            GLM   Df Residuals:                    20954\n",
       "Model Family:                Binomial   Df Model:                           12\n",
       "Link Function:                  logit   Scale:                             1.0\n",
       "Method:                          IRLS   Log-Likelihood:                -4898.8\n",
       "Date:                Sat, 25 Aug 2018   Deviance:                       9797.6\n",
       "Time:                        03:45:45   Pearson chi2:                 2.64e+04\n",
       "No. Iterations:                     8                                         \n",
       "======================================================================================\n",
       "                         coef    std err          z      P>|z|      [0.025      0.975]\n",
       "--------------------------------------------------------------------------------------\n",
       "const                  4.0213      0.300     13.386      0.000       3.433       4.610\n",
       "std_og_t2f_mou_8      -1.0106      0.130     -7.745      0.000      -1.266      -0.755\n",
       "std_ic_t2f_mou_8      -0.4646      0.048     -9.764      0.000      -0.558      -0.371\n",
       "ic_others_6            0.2855      0.083      3.434      0.001       0.123       0.448\n",
       "ic_others_8           -1.3493      0.124    -10.844      0.000      -1.593      -1.105\n",
       "total_rech_data_8     -0.5611      0.088     -6.366      0.000      -0.734      -0.388\n",
       "count_rech_2g_8       -0.8155      0.698     -1.169      0.242      -2.183       0.552\n",
       "count_rech_3g_6        0.6378      0.072      8.841      0.000       0.496       0.779\n",
       "monthly_2g_8          -0.5435      0.713     -0.763      0.446      -1.941       0.854\n",
       "sachet_2g_8            0.9523      0.692      1.376      0.169      -0.404       2.309\n",
       "monthly_3g_8          -0.9776      0.161     -6.081      0.000      -1.293      -0.663\n",
       "sep_vbc_3g            -2.6713      0.336     -7.959      0.000      -3.329      -2.013\n",
       "Frequency_recharge    -1.9020      0.102    -18.583      0.000      -2.103      -1.701\n",
       "======================================================================================\n",
       "\"\"\""
      ]
     },
     "execution_count": 99,
     "metadata": {},
     "output_type": "execute_result"
    }
   ],
   "source": [
    "logm2 = sm.GLM(y_train,(sm.add_constant(X_train_rfe1.drop(['loc_og_t2o_mou','std_og_t2o_mou','loc_ic_t2o_mou'],axis=1))), family = sm.families.Binomial())\n",
    "logm2.fit().summary()"
   ]
  },
  {
   "cell_type": "code",
   "execution_count": 100,
   "metadata": {},
   "outputs": [
    {
     "data": {
      "text/html": [
       "<div>\n",
       "<style scoped>\n",
       "    .dataframe tbody tr th:only-of-type {\n",
       "        vertical-align: middle;\n",
       "    }\n",
       "\n",
       "    .dataframe tbody tr th {\n",
       "        vertical-align: top;\n",
       "    }\n",
       "\n",
       "    .dataframe thead th {\n",
       "        text-align: right;\n",
       "    }\n",
       "</style>\n",
       "<table border=\"1\" class=\"dataframe\">\n",
       "  <thead>\n",
       "    <tr style=\"text-align: right;\">\n",
       "      <th></th>\n",
       "      <th>Var</th>\n",
       "      <th>Vif</th>\n",
       "    </tr>\n",
       "  </thead>\n",
       "  <tbody>\n",
       "    <tr>\n",
       "      <th>4</th>\n",
       "      <td>total_rech_data_8</td>\n",
       "      <td>12.71</td>\n",
       "    </tr>\n",
       "    <tr>\n",
       "      <th>7</th>\n",
       "      <td>sachet_2g_8</td>\n",
       "      <td>10.04</td>\n",
       "    </tr>\n",
       "    <tr>\n",
       "      <th>10</th>\n",
       "      <td>Frequency_recharge</td>\n",
       "      <td>2.49</td>\n",
       "    </tr>\n",
       "    <tr>\n",
       "      <th>8</th>\n",
       "      <td>monthly_3g_8</td>\n",
       "      <td>2.15</td>\n",
       "    </tr>\n",
       "    <tr>\n",
       "      <th>5</th>\n",
       "      <td>count_rech_3g_6</td>\n",
       "      <td>1.78</td>\n",
       "    </tr>\n",
       "    <tr>\n",
       "      <th>6</th>\n",
       "      <td>monthly_2g_8</td>\n",
       "      <td>1.57</td>\n",
       "    </tr>\n",
       "    <tr>\n",
       "      <th>1</th>\n",
       "      <td>std_ic_t2f_mou_8</td>\n",
       "      <td>1.48</td>\n",
       "    </tr>\n",
       "    <tr>\n",
       "      <th>2</th>\n",
       "      <td>ic_others_6</td>\n",
       "      <td>1.44</td>\n",
       "    </tr>\n",
       "    <tr>\n",
       "      <th>3</th>\n",
       "      <td>ic_others_8</td>\n",
       "      <td>1.44</td>\n",
       "    </tr>\n",
       "    <tr>\n",
       "      <th>0</th>\n",
       "      <td>std_og_t2f_mou_8</td>\n",
       "      <td>1.37</td>\n",
       "    </tr>\n",
       "    <tr>\n",
       "      <th>9</th>\n",
       "      <td>sep_vbc_3g</td>\n",
       "      <td>1.17</td>\n",
       "    </tr>\n",
       "  </tbody>\n",
       "</table>\n",
       "</div>"
      ],
      "text/plain": [
       "                   Var    Vif\n",
       "4    total_rech_data_8  12.71\n",
       "7          sachet_2g_8  10.04\n",
       "10  Frequency_recharge   2.49\n",
       "8         monthly_3g_8   2.15\n",
       "5      count_rech_3g_6   1.78\n",
       "6         monthly_2g_8   1.57\n",
       "1     std_ic_t2f_mou_8   1.48\n",
       "2          ic_others_6   1.44\n",
       "3          ic_others_8   1.44\n",
       "0     std_og_t2f_mou_8   1.37\n",
       "9           sep_vbc_3g   1.17"
      ]
     },
     "execution_count": 100,
     "metadata": {},
     "output_type": "execute_result"
    }
   ],
   "source": [
    "#Dropping 'count_rech_2g_8' with high vif and pvalue\n",
    "vif_cal(input_data=telecom_data_new[RFECols.insert(0,'CHURN_IND')].drop(['loc_og_t2o_mou','std_og_t2o_mou','loc_ic_t2o_mou','count_rech_2g_8'],axis=1), dependent_col='CHURN_IND')"
   ]
  },
  {
   "cell_type": "code",
   "execution_count": 104,
   "metadata": {},
   "outputs": [
    {
     "data": {
      "text/html": [
       "<table class=\"simpletable\">\n",
       "<caption>Generalized Linear Model Regression Results</caption>\n",
       "<tr>\n",
       "  <th>Dep. Variable:</th>      <td>CHURN_IND</td>    <th>  No. Observations:  </th>  <td> 20967</td> \n",
       "</tr>\n",
       "<tr>\n",
       "  <th>Model:</th>                 <td>GLM</td>       <th>  Df Residuals:      </th>  <td> 20955</td> \n",
       "</tr>\n",
       "<tr>\n",
       "  <th>Model Family:</th>       <td>Binomial</td>     <th>  Df Model:          </th>  <td>    11</td> \n",
       "</tr>\n",
       "<tr>\n",
       "  <th>Link Function:</th>        <td>logit</td>      <th>  Scale:             </th>    <td>1.0</td>  \n",
       "</tr>\n",
       "<tr>\n",
       "  <th>Method:</th>               <td>IRLS</td>       <th>  Log-Likelihood:    </th> <td> -4899.5</td>\n",
       "</tr>\n",
       "<tr>\n",
       "  <th>Date:</th>           <td>Sat, 25 Aug 2018</td> <th>  Deviance:          </th> <td>  9799.0</td>\n",
       "</tr>\n",
       "<tr>\n",
       "  <th>Time:</th>               <td>03:48:29</td>     <th>  Pearson chi2:      </th> <td>2.65e+04</td>\n",
       "</tr>\n",
       "<tr>\n",
       "  <th>No. Iterations:</th>         <td>8</td>        <th>                     </th>     <td> </td>   \n",
       "</tr>\n",
       "</table>\n",
       "<table class=\"simpletable\">\n",
       "<tr>\n",
       "           <td></td>             <th>coef</th>     <th>std err</th>      <th>z</th>      <th>P>|z|</th>  <th>[0.025</th>    <th>0.975]</th>  \n",
       "</tr>\n",
       "<tr>\n",
       "  <th>const</th>              <td>    4.0214</td> <td>    0.300</td> <td>   13.386</td> <td> 0.000</td> <td>    3.433</td> <td>    4.610</td>\n",
       "</tr>\n",
       "<tr>\n",
       "  <th>std_og_t2f_mou_8</th>   <td>   -1.0099</td> <td>    0.130</td> <td>   -7.739</td> <td> 0.000</td> <td>   -1.266</td> <td>   -0.754</td>\n",
       "</tr>\n",
       "<tr>\n",
       "  <th>std_ic_t2f_mou_8</th>   <td>   -0.4646</td> <td>    0.048</td> <td>   -9.765</td> <td> 0.000</td> <td>   -0.558</td> <td>   -0.371</td>\n",
       "</tr>\n",
       "<tr>\n",
       "  <th>ic_others_6</th>        <td>    0.2856</td> <td>    0.083</td> <td>    3.435</td> <td> 0.001</td> <td>    0.123</td> <td>    0.448</td>\n",
       "</tr>\n",
       "<tr>\n",
       "  <th>ic_others_8</th>        <td>   -1.3496</td> <td>    0.124</td> <td>  -10.847</td> <td> 0.000</td> <td>   -1.593</td> <td>   -1.106</td>\n",
       "</tr>\n",
       "<tr>\n",
       "  <th>total_rech_data_8</th>  <td>   -0.5746</td> <td>    0.088</td> <td>   -6.514</td> <td> 0.000</td> <td>   -0.748</td> <td>   -0.402</td>\n",
       "</tr>\n",
       "<tr>\n",
       "  <th>count_rech_3g_6</th>    <td>    0.6395</td> <td>    0.072</td> <td>    8.870</td> <td> 0.000</td> <td>    0.498</td> <td>    0.781</td>\n",
       "</tr>\n",
       "<tr>\n",
       "  <th>monthly_2g_8</th>       <td>   -1.3641</td> <td>    0.186</td> <td>   -7.330</td> <td> 0.000</td> <td>   -1.729</td> <td>   -0.999</td>\n",
       "</tr>\n",
       "<tr>\n",
       "  <th>sachet_2g_8</th>        <td>    0.1548</td> <td>    0.106</td> <td>    1.467</td> <td> 0.142</td> <td>   -0.052</td> <td>    0.362</td>\n",
       "</tr>\n",
       "<tr>\n",
       "  <th>monthly_3g_8</th>       <td>   -0.9615</td> <td>    0.161</td> <td>   -5.983</td> <td> 0.000</td> <td>   -1.276</td> <td>   -0.647</td>\n",
       "</tr>\n",
       "<tr>\n",
       "  <th>sep_vbc_3g</th>         <td>   -2.6719</td> <td>    0.336</td> <td>   -7.960</td> <td> 0.000</td> <td>   -3.330</td> <td>   -2.014</td>\n",
       "</tr>\n",
       "<tr>\n",
       "  <th>Frequency_recharge</th> <td>   -1.9023</td> <td>    0.102</td> <td>  -18.585</td> <td> 0.000</td> <td>   -2.103</td> <td>   -1.702</td>\n",
       "</tr>\n",
       "</table>"
      ],
      "text/plain": [
       "<class 'statsmodels.iolib.summary.Summary'>\n",
       "\"\"\"\n",
       "                 Generalized Linear Model Regression Results                  \n",
       "==============================================================================\n",
       "Dep. Variable:              CHURN_IND   No. Observations:                20967\n",
       "Model:                            GLM   Df Residuals:                    20955\n",
       "Model Family:                Binomial   Df Model:                           11\n",
       "Link Function:                  logit   Scale:                             1.0\n",
       "Method:                          IRLS   Log-Likelihood:                -4899.5\n",
       "Date:                Sat, 25 Aug 2018   Deviance:                       9799.0\n",
       "Time:                        03:48:29   Pearson chi2:                 2.65e+04\n",
       "No. Iterations:                     8                                         \n",
       "======================================================================================\n",
       "                         coef    std err          z      P>|z|      [0.025      0.975]\n",
       "--------------------------------------------------------------------------------------\n",
       "const                  4.0214      0.300     13.386      0.000       3.433       4.610\n",
       "std_og_t2f_mou_8      -1.0099      0.130     -7.739      0.000      -1.266      -0.754\n",
       "std_ic_t2f_mou_8      -0.4646      0.048     -9.765      0.000      -0.558      -0.371\n",
       "ic_others_6            0.2856      0.083      3.435      0.001       0.123       0.448\n",
       "ic_others_8           -1.3496      0.124    -10.847      0.000      -1.593      -1.106\n",
       "total_rech_data_8     -0.5746      0.088     -6.514      0.000      -0.748      -0.402\n",
       "count_rech_3g_6        0.6395      0.072      8.870      0.000       0.498       0.781\n",
       "monthly_2g_8          -1.3641      0.186     -7.330      0.000      -1.729      -0.999\n",
       "sachet_2g_8            0.1548      0.106      1.467      0.142      -0.052       0.362\n",
       "monthly_3g_8          -0.9615      0.161     -5.983      0.000      -1.276      -0.647\n",
       "sep_vbc_3g            -2.6719      0.336     -7.960      0.000      -3.330      -2.014\n",
       "Frequency_recharge    -1.9023      0.102    -18.585      0.000      -2.103      -1.702\n",
       "======================================================================================\n",
       "\"\"\""
      ]
     },
     "execution_count": 104,
     "metadata": {},
     "output_type": "execute_result"
    }
   ],
   "source": [
    "logm3 = sm.GLM(y_train,(sm.add_constant(X_train_rfe1.drop(['loc_og_t2o_mou','std_og_t2o_mou','loc_ic_t2o_mou','count_rech_2g_8'],axis=1))), family = sm.families.Binomial())\n",
    "logm3.fit().summary()"
   ]
  },
  {
   "cell_type": "code",
   "execution_count": 105,
   "metadata": {},
   "outputs": [
    {
     "data": {
      "text/html": [
       "<div>\n",
       "<style scoped>\n",
       "    .dataframe tbody tr th:only-of-type {\n",
       "        vertical-align: middle;\n",
       "    }\n",
       "\n",
       "    .dataframe tbody tr th {\n",
       "        vertical-align: top;\n",
       "    }\n",
       "\n",
       "    .dataframe thead th {\n",
       "        text-align: right;\n",
       "    }\n",
       "</style>\n",
       "<table border=\"1\" class=\"dataframe\">\n",
       "  <thead>\n",
       "    <tr style=\"text-align: right;\">\n",
       "      <th></th>\n",
       "      <th>Var</th>\n",
       "      <th>Vif</th>\n",
       "    </tr>\n",
       "  </thead>\n",
       "  <tbody>\n",
       "    <tr>\n",
       "      <th>9</th>\n",
       "      <td>Frequency_recharge</td>\n",
       "      <td>2.47</td>\n",
       "    </tr>\n",
       "    <tr>\n",
       "      <th>4</th>\n",
       "      <td>total_rech_data_8</td>\n",
       "      <td>1.71</td>\n",
       "    </tr>\n",
       "    <tr>\n",
       "      <th>5</th>\n",
       "      <td>count_rech_3g_6</td>\n",
       "      <td>1.71</td>\n",
       "    </tr>\n",
       "    <tr>\n",
       "      <th>7</th>\n",
       "      <td>monthly_3g_8</td>\n",
       "      <td>1.53</td>\n",
       "    </tr>\n",
       "    <tr>\n",
       "      <th>1</th>\n",
       "      <td>std_ic_t2f_mou_8</td>\n",
       "      <td>1.48</td>\n",
       "    </tr>\n",
       "    <tr>\n",
       "      <th>2</th>\n",
       "      <td>ic_others_6</td>\n",
       "      <td>1.44</td>\n",
       "    </tr>\n",
       "    <tr>\n",
       "      <th>3</th>\n",
       "      <td>ic_others_8</td>\n",
       "      <td>1.44</td>\n",
       "    </tr>\n",
       "    <tr>\n",
       "      <th>0</th>\n",
       "      <td>std_og_t2f_mou_8</td>\n",
       "      <td>1.37</td>\n",
       "    </tr>\n",
       "    <tr>\n",
       "      <th>6</th>\n",
       "      <td>monthly_2g_8</td>\n",
       "      <td>1.20</td>\n",
       "    </tr>\n",
       "    <tr>\n",
       "      <th>8</th>\n",
       "      <td>sep_vbc_3g</td>\n",
       "      <td>1.17</td>\n",
       "    </tr>\n",
       "  </tbody>\n",
       "</table>\n",
       "</div>"
      ],
      "text/plain": [
       "                  Var   Vif\n",
       "9  Frequency_recharge  2.47\n",
       "4   total_rech_data_8  1.71\n",
       "5     count_rech_3g_6  1.71\n",
       "7        monthly_3g_8  1.53\n",
       "1    std_ic_t2f_mou_8  1.48\n",
       "2         ic_others_6  1.44\n",
       "3         ic_others_8  1.44\n",
       "0    std_og_t2f_mou_8  1.37\n",
       "6        monthly_2g_8  1.20\n",
       "8          sep_vbc_3g  1.17"
      ]
     },
     "execution_count": 105,
     "metadata": {},
     "output_type": "execute_result"
    }
   ],
   "source": [
    "#Dropping sachet having high pvalue and considerably high vif\n",
    "vif_cal(input_data=telecom_data_new[RFECols.insert(0,'CHURN_IND')].drop(['loc_og_t2o_mou','std_og_t2o_mou','loc_ic_t2o_mou','count_rech_2g_8','sachet_2g_8'],axis=1), dependent_col='CHURN_IND')"
   ]
  },
  {
   "cell_type": "code",
   "execution_count": 123,
   "metadata": {},
   "outputs": [
    {
     "data": {
      "text/html": [
       "<table class=\"simpletable\">\n",
       "<caption>Generalized Linear Model Regression Results</caption>\n",
       "<tr>\n",
       "  <th>Dep. Variable:</th>      <td>CHURN_IND</td>    <th>  No. Observations:  </th>  <td> 20967</td> \n",
       "</tr>\n",
       "<tr>\n",
       "  <th>Model:</th>                 <td>GLM</td>       <th>  Df Residuals:      </th>  <td> 20957</td> \n",
       "</tr>\n",
       "<tr>\n",
       "  <th>Model Family:</th>       <td>Binomial</td>     <th>  Df Model:          </th>  <td>     9</td> \n",
       "</tr>\n",
       "<tr>\n",
       "  <th>Link Function:</th>        <td>logit</td>      <th>  Scale:             </th>    <td>1.0</td>  \n",
       "</tr>\n",
       "<tr>\n",
       "  <th>Method:</th>               <td>IRLS</td>       <th>  Log-Likelihood:    </th> <td> -4972.8</td>\n",
       "</tr>\n",
       "<tr>\n",
       "  <th>Date:</th>           <td>Sat, 25 Aug 2018</td> <th>  Deviance:          </th> <td>  9945.5</td>\n",
       "</tr>\n",
       "<tr>\n",
       "  <th>Time:</th>               <td>04:20:23</td>     <th>  Pearson chi2:      </th> <td>2.85e+04</td>\n",
       "</tr>\n",
       "<tr>\n",
       "  <th>No. Iterations:</th>         <td>8</td>        <th>                     </th>     <td> </td>   \n",
       "</tr>\n",
       "</table>\n",
       "<table class=\"simpletable\">\n",
       "<tr>\n",
       "           <td></td>             <th>coef</th>     <th>std err</th>      <th>z</th>      <th>P>|z|</th>  <th>[0.025</th>    <th>0.975]</th>  \n",
       "</tr>\n",
       "<tr>\n",
       "  <th>const</th>              <td>    4.0472</td> <td>    0.297</td> <td>   13.614</td> <td> 0.000</td> <td>    3.465</td> <td>    4.630</td>\n",
       "</tr>\n",
       "<tr>\n",
       "  <th>std_og_t2f_mou_8</th>   <td>   -1.0274</td> <td>    0.130</td> <td>   -7.902</td> <td> 0.000</td> <td>   -1.282</td> <td>   -0.773</td>\n",
       "</tr>\n",
       "<tr>\n",
       "  <th>std_ic_t2f_mou_8</th>   <td>   -0.4837</td> <td>    0.048</td> <td>  -10.157</td> <td> 0.000</td> <td>   -0.577</td> <td>   -0.390</td>\n",
       "</tr>\n",
       "<tr>\n",
       "  <th>ic_others_6</th>        <td>    0.2721</td> <td>    0.083</td> <td>    3.292</td> <td> 0.001</td> <td>    0.110</td> <td>    0.434</td>\n",
       "</tr>\n",
       "<tr>\n",
       "  <th>ic_others_8</th>        <td>   -1.3529</td> <td>    0.124</td> <td>  -10.876</td> <td> 0.000</td> <td>   -1.597</td> <td>   -1.109</td>\n",
       "</tr>\n",
       "<tr>\n",
       "  <th>total_rech_data_8</th>  <td>   -0.4797</td> <td>    0.029</td> <td>  -16.805</td> <td> 0.000</td> <td>   -0.536</td> <td>   -0.424</td>\n",
       "</tr>\n",
       "<tr>\n",
       "  <th>count_rech_3g_6</th>    <td>    0.5432</td> <td>    0.070</td> <td>    7.756</td> <td> 0.000</td> <td>    0.406</td> <td>    0.680</td>\n",
       "</tr>\n",
       "<tr>\n",
       "  <th>monthly_2g_8</th>       <td>   -1.5654</td> <td>    0.164</td> <td>   -9.520</td> <td> 0.000</td> <td>   -1.888</td> <td>   -1.243</td>\n",
       "</tr>\n",
       "<tr>\n",
       "  <th>monthly_3g_8</th>       <td>   -1.1321</td> <td>    0.128</td> <td>   -8.874</td> <td> 0.000</td> <td>   -1.382</td> <td>   -0.882</td>\n",
       "</tr>\n",
       "<tr>\n",
       "  <th>Frequency_recharge</th> <td>   -1.9193</td> <td>    0.101</td> <td>  -18.950</td> <td> 0.000</td> <td>   -2.118</td> <td>   -1.721</td>\n",
       "</tr>\n",
       "</table>"
      ],
      "text/plain": [
       "<class 'statsmodels.iolib.summary.Summary'>\n",
       "\"\"\"\n",
       "                 Generalized Linear Model Regression Results                  \n",
       "==============================================================================\n",
       "Dep. Variable:              CHURN_IND   No. Observations:                20967\n",
       "Model:                            GLM   Df Residuals:                    20957\n",
       "Model Family:                Binomial   Df Model:                            9\n",
       "Link Function:                  logit   Scale:                             1.0\n",
       "Method:                          IRLS   Log-Likelihood:                -4972.8\n",
       "Date:                Sat, 25 Aug 2018   Deviance:                       9945.5\n",
       "Time:                        04:20:23   Pearson chi2:                 2.85e+04\n",
       "No. Iterations:                     8                                         \n",
       "======================================================================================\n",
       "                         coef    std err          z      P>|z|      [0.025      0.975]\n",
       "--------------------------------------------------------------------------------------\n",
       "const                  4.0472      0.297     13.614      0.000       3.465       4.630\n",
       "std_og_t2f_mou_8      -1.0274      0.130     -7.902      0.000      -1.282      -0.773\n",
       "std_ic_t2f_mou_8      -0.4837      0.048    -10.157      0.000      -0.577      -0.390\n",
       "ic_others_6            0.2721      0.083      3.292      0.001       0.110       0.434\n",
       "ic_others_8           -1.3529      0.124    -10.876      0.000      -1.597      -1.109\n",
       "total_rech_data_8     -0.4797      0.029    -16.805      0.000      -0.536      -0.424\n",
       "count_rech_3g_6        0.5432      0.070      7.756      0.000       0.406       0.680\n",
       "monthly_2g_8          -1.5654      0.164     -9.520      0.000      -1.888      -1.243\n",
       "monthly_3g_8          -1.1321      0.128     -8.874      0.000      -1.382      -0.882\n",
       "Frequency_recharge    -1.9193      0.101    -18.950      0.000      -2.118      -1.721\n",
       "======================================================================================\n",
       "\"\"\""
      ]
     },
     "execution_count": 123,
     "metadata": {},
     "output_type": "execute_result"
    }
   ],
   "source": [
    "logm4 = sm.GLM(y_train,(sm.add_constant(X_train_rfe1.drop(['loc_og_t2o_mou','std_og_t2o_mou','loc_ic_t2o_mou','count_rech_2g_8','sachet_2g_8','sep_vbc_3g'],axis=1))), family = sm.families.Binomial())\n",
    "logm4.fit().summary()"
   ]
  },
  {
   "cell_type": "code",
   "execution_count": 124,
   "metadata": {},
   "outputs": [
    {
     "data": {
      "text/plain": [
       "LogisticRegression(C=1.0, class_weight=None, dual=False, fit_intercept=True,\n",
       "          intercept_scaling=1, max_iter=100, multi_class='ovr', n_jobs=1,\n",
       "          penalty='l2', random_state=None, solver='liblinear', tol=0.0001,\n",
       "          verbose=0, warm_start=False)"
      ]
     },
     "execution_count": 124,
     "metadata": {},
     "output_type": "execute_result"
    }
   ],
   "source": [
    "colsToTrainLogit = RFECols.drop(['loc_og_t2o_mou','std_og_t2o_mou','loc_ic_t2o_mou','count_rech_2g_8','sachet_2g_8','sep_vbc_3g'])\n",
    "logsk_final = LogisticRegression()\n",
    "logsk_final.fit(X_train[colsToTrainLogit], y_train)"
   ]
  },
  {
   "cell_type": "markdown",
   "metadata": {},
   "source": [
    "### Making Predictions"
   ]
  },
  {
   "cell_type": "code",
   "execution_count": 125,
   "metadata": {},
   "outputs": [],
   "source": [
    "# Predicted probabilities\n",
    "y_pred = logsk_final.predict_proba(X_test[colsToTrainLogit])"
   ]
  },
  {
   "cell_type": "code",
   "execution_count": 126,
   "metadata": {},
   "outputs": [
    {
     "data": {
      "text/html": [
       "<div>\n",
       "<style scoped>\n",
       "    .dataframe tbody tr th:only-of-type {\n",
       "        vertical-align: middle;\n",
       "    }\n",
       "\n",
       "    .dataframe tbody tr th {\n",
       "        vertical-align: top;\n",
       "    }\n",
       "\n",
       "    .dataframe thead th {\n",
       "        text-align: right;\n",
       "    }\n",
       "</style>\n",
       "<table border=\"1\" class=\"dataframe\">\n",
       "  <thead>\n",
       "    <tr style=\"text-align: right;\">\n",
       "      <th></th>\n",
       "      <th>1</th>\n",
       "    </tr>\n",
       "  </thead>\n",
       "  <tbody>\n",
       "    <tr>\n",
       "      <th>0</th>\n",
       "      <td>0.122061</td>\n",
       "    </tr>\n",
       "    <tr>\n",
       "      <th>1</th>\n",
       "      <td>0.035259</td>\n",
       "    </tr>\n",
       "    <tr>\n",
       "      <th>2</th>\n",
       "      <td>0.008411</td>\n",
       "    </tr>\n",
       "    <tr>\n",
       "      <th>3</th>\n",
       "      <td>0.051723</td>\n",
       "    </tr>\n",
       "    <tr>\n",
       "      <th>4</th>\n",
       "      <td>0.050390</td>\n",
       "    </tr>\n",
       "  </tbody>\n",
       "</table>\n",
       "</div>"
      ],
      "text/plain": [
       "          1\n",
       "0  0.122061\n",
       "1  0.035259\n",
       "2  0.008411\n",
       "3  0.051723\n",
       "4  0.050390"
      ]
     },
     "execution_count": 126,
     "metadata": {},
     "output_type": "execute_result"
    }
   ],
   "source": [
    "# Converting y_pred to a dataframe which is an array\n",
    "y_pred_df = pd.DataFrame(y_pred)\n",
    "# Converting to column dataframe\n",
    "y_pred_1 = y_pred_df.iloc[:,[1]]\n",
    "y_pred_1.head()"
   ]
  },
  {
   "cell_type": "code",
   "execution_count": 127,
   "metadata": {},
   "outputs": [
    {
     "data": {
      "text/html": [
       "<div>\n",
       "<style scoped>\n",
       "    .dataframe tbody tr th:only-of-type {\n",
       "        vertical-align: middle;\n",
       "    }\n",
       "\n",
       "    .dataframe tbody tr th {\n",
       "        vertical-align: top;\n",
       "    }\n",
       "\n",
       "    .dataframe thead th {\n",
       "        text-align: right;\n",
       "    }\n",
       "</style>\n",
       "<table border=\"1\" class=\"dataframe\">\n",
       "  <thead>\n",
       "    <tr style=\"text-align: right;\">\n",
       "      <th></th>\n",
       "      <th>CHURN_IND</th>\n",
       "    </tr>\n",
       "  </thead>\n",
       "  <tbody>\n",
       "    <tr>\n",
       "      <th>48388</th>\n",
       "      <td>0</td>\n",
       "    </tr>\n",
       "    <tr>\n",
       "      <th>29754</th>\n",
       "      <td>0</td>\n",
       "    </tr>\n",
       "    <tr>\n",
       "      <th>50131</th>\n",
       "      <td>0</td>\n",
       "    </tr>\n",
       "    <tr>\n",
       "      <th>66630</th>\n",
       "      <td>0</td>\n",
       "    </tr>\n",
       "    <tr>\n",
       "      <th>91920</th>\n",
       "      <td>0</td>\n",
       "    </tr>\n",
       "  </tbody>\n",
       "</table>\n",
       "</div>"
      ],
      "text/plain": [
       "       CHURN_IND\n",
       "48388          0\n",
       "29754          0\n",
       "50131          0\n",
       "66630          0\n",
       "91920          0"
      ]
     },
     "execution_count": 127,
     "metadata": {},
     "output_type": "execute_result"
    }
   ],
   "source": [
    "y_test_df = pd.DataFrame(y_test)\n",
    "y_test_df.head()"
   ]
  },
  {
   "cell_type": "code",
   "execution_count": 128,
   "metadata": {},
   "outputs": [],
   "source": [
    "y_test_df['Customer_ID'] = y_test_df.index"
   ]
  },
  {
   "cell_type": "code",
   "execution_count": 129,
   "metadata": {
    "scrolled": true
   },
   "outputs": [
    {
     "data": {
      "text/html": [
       "<div>\n",
       "<style scoped>\n",
       "    .dataframe tbody tr th:only-of-type {\n",
       "        vertical-align: middle;\n",
       "    }\n",
       "\n",
       "    .dataframe tbody tr th {\n",
       "        vertical-align: top;\n",
       "    }\n",
       "\n",
       "    .dataframe thead th {\n",
       "        text-align: right;\n",
       "    }\n",
       "</style>\n",
       "<table border=\"1\" class=\"dataframe\">\n",
       "  <thead>\n",
       "    <tr style=\"text-align: right;\">\n",
       "      <th></th>\n",
       "      <th>CHURN_IND</th>\n",
       "      <th>Customer_ID</th>\n",
       "      <th>1</th>\n",
       "    </tr>\n",
       "  </thead>\n",
       "  <tbody>\n",
       "    <tr>\n",
       "      <th>0</th>\n",
       "      <td>0</td>\n",
       "      <td>48388</td>\n",
       "      <td>0.122061</td>\n",
       "    </tr>\n",
       "    <tr>\n",
       "      <th>1</th>\n",
       "      <td>0</td>\n",
       "      <td>29754</td>\n",
       "      <td>0.035259</td>\n",
       "    </tr>\n",
       "    <tr>\n",
       "      <th>2</th>\n",
       "      <td>0</td>\n",
       "      <td>50131</td>\n",
       "      <td>0.008411</td>\n",
       "    </tr>\n",
       "    <tr>\n",
       "      <th>3</th>\n",
       "      <td>0</td>\n",
       "      <td>66630</td>\n",
       "      <td>0.051723</td>\n",
       "    </tr>\n",
       "    <tr>\n",
       "      <th>4</th>\n",
       "      <td>0</td>\n",
       "      <td>91920</td>\n",
       "      <td>0.050390</td>\n",
       "    </tr>\n",
       "    <tr>\n",
       "      <th>5</th>\n",
       "      <td>0</td>\n",
       "      <td>57023</td>\n",
       "      <td>0.040820</td>\n",
       "    </tr>\n",
       "    <tr>\n",
       "      <th>6</th>\n",
       "      <td>0</td>\n",
       "      <td>3388</td>\n",
       "      <td>0.025568</td>\n",
       "    </tr>\n",
       "    <tr>\n",
       "      <th>7</th>\n",
       "      <td>0</td>\n",
       "      <td>48874</td>\n",
       "      <td>0.018238</td>\n",
       "    </tr>\n",
       "    <tr>\n",
       "      <th>8</th>\n",
       "      <td>0</td>\n",
       "      <td>34480</td>\n",
       "      <td>0.007028</td>\n",
       "    </tr>\n",
       "    <tr>\n",
       "      <th>9</th>\n",
       "      <td>0</td>\n",
       "      <td>63686</td>\n",
       "      <td>0.001360</td>\n",
       "    </tr>\n",
       "    <tr>\n",
       "      <th>10</th>\n",
       "      <td>0</td>\n",
       "      <td>65754</td>\n",
       "      <td>0.147898</td>\n",
       "    </tr>\n",
       "    <tr>\n",
       "      <th>11</th>\n",
       "      <td>0</td>\n",
       "      <td>54763</td>\n",
       "      <td>0.173180</td>\n",
       "    </tr>\n",
       "    <tr>\n",
       "      <th>12</th>\n",
       "      <td>1</td>\n",
       "      <td>88894</td>\n",
       "      <td>0.153662</td>\n",
       "    </tr>\n",
       "    <tr>\n",
       "      <th>13</th>\n",
       "      <td>0</td>\n",
       "      <td>48107</td>\n",
       "      <td>0.153662</td>\n",
       "    </tr>\n",
       "    <tr>\n",
       "      <th>14</th>\n",
       "      <td>0</td>\n",
       "      <td>80666</td>\n",
       "      <td>0.033413</td>\n",
       "    </tr>\n",
       "    <tr>\n",
       "      <th>15</th>\n",
       "      <td>0</td>\n",
       "      <td>18343</td>\n",
       "      <td>0.019902</td>\n",
       "    </tr>\n",
       "    <tr>\n",
       "      <th>16</th>\n",
       "      <td>1</td>\n",
       "      <td>62865</td>\n",
       "      <td>0.153662</td>\n",
       "    </tr>\n",
       "    <tr>\n",
       "      <th>17</th>\n",
       "      <td>0</td>\n",
       "      <td>15111</td>\n",
       "      <td>0.195453</td>\n",
       "    </tr>\n",
       "    <tr>\n",
       "      <th>18</th>\n",
       "      <td>0</td>\n",
       "      <td>10366</td>\n",
       "      <td>0.130273</td>\n",
       "    </tr>\n",
       "    <tr>\n",
       "      <th>19</th>\n",
       "      <td>0</td>\n",
       "      <td>51708</td>\n",
       "      <td>0.006588</td>\n",
       "    </tr>\n",
       "    <tr>\n",
       "      <th>20</th>\n",
       "      <td>0</td>\n",
       "      <td>74699</td>\n",
       "      <td>0.064878</td>\n",
       "    </tr>\n",
       "    <tr>\n",
       "      <th>21</th>\n",
       "      <td>0</td>\n",
       "      <td>51561</td>\n",
       "      <td>0.158276</td>\n",
       "    </tr>\n",
       "    <tr>\n",
       "      <th>22</th>\n",
       "      <td>0</td>\n",
       "      <td>32521</td>\n",
       "      <td>0.015340</td>\n",
       "    </tr>\n",
       "    <tr>\n",
       "      <th>23</th>\n",
       "      <td>0</td>\n",
       "      <td>3196</td>\n",
       "      <td>0.008018</td>\n",
       "    </tr>\n",
       "    <tr>\n",
       "      <th>24</th>\n",
       "      <td>0</td>\n",
       "      <td>79348</td>\n",
       "      <td>0.153662</td>\n",
       "    </tr>\n",
       "    <tr>\n",
       "      <th>25</th>\n",
       "      <td>0</td>\n",
       "      <td>30626</td>\n",
       "      <td>0.011697</td>\n",
       "    </tr>\n",
       "    <tr>\n",
       "      <th>26</th>\n",
       "      <td>1</td>\n",
       "      <td>35226</td>\n",
       "      <td>0.238658</td>\n",
       "    </tr>\n",
       "    <tr>\n",
       "      <th>27</th>\n",
       "      <td>0</td>\n",
       "      <td>12290</td>\n",
       "      <td>0.014575</td>\n",
       "    </tr>\n",
       "    <tr>\n",
       "      <th>28</th>\n",
       "      <td>0</td>\n",
       "      <td>88927</td>\n",
       "      <td>0.008018</td>\n",
       "    </tr>\n",
       "    <tr>\n",
       "      <th>29</th>\n",
       "      <td>0</td>\n",
       "      <td>55051</td>\n",
       "      <td>0.042046</td>\n",
       "    </tr>\n",
       "    <tr>\n",
       "      <th>...</th>\n",
       "      <td>...</td>\n",
       "      <td>...</td>\n",
       "      <td>...</td>\n",
       "    </tr>\n",
       "    <tr>\n",
       "      <th>8956</th>\n",
       "      <td>0</td>\n",
       "      <td>88773</td>\n",
       "      <td>0.113013</td>\n",
       "    </tr>\n",
       "    <tr>\n",
       "      <th>8957</th>\n",
       "      <td>0</td>\n",
       "      <td>80544</td>\n",
       "      <td>0.006506</td>\n",
       "    </tr>\n",
       "    <tr>\n",
       "      <th>8958</th>\n",
       "      <td>0</td>\n",
       "      <td>2238</td>\n",
       "      <td>0.001652</td>\n",
       "    </tr>\n",
       "    <tr>\n",
       "      <th>8959</th>\n",
       "      <td>0</td>\n",
       "      <td>69988</td>\n",
       "      <td>0.013703</td>\n",
       "    </tr>\n",
       "    <tr>\n",
       "      <th>8960</th>\n",
       "      <td>0</td>\n",
       "      <td>12490</td>\n",
       "      <td>0.059355</td>\n",
       "    </tr>\n",
       "    <tr>\n",
       "      <th>8961</th>\n",
       "      <td>0</td>\n",
       "      <td>88636</td>\n",
       "      <td>0.118538</td>\n",
       "    </tr>\n",
       "    <tr>\n",
       "      <th>8962</th>\n",
       "      <td>0</td>\n",
       "      <td>68187</td>\n",
       "      <td>0.051850</td>\n",
       "    </tr>\n",
       "    <tr>\n",
       "      <th>8963</th>\n",
       "      <td>0</td>\n",
       "      <td>30890</td>\n",
       "      <td>0.068717</td>\n",
       "    </tr>\n",
       "    <tr>\n",
       "      <th>8964</th>\n",
       "      <td>0</td>\n",
       "      <td>85297</td>\n",
       "      <td>0.010900</td>\n",
       "    </tr>\n",
       "    <tr>\n",
       "      <th>8965</th>\n",
       "      <td>0</td>\n",
       "      <td>53258</td>\n",
       "      <td>0.027173</td>\n",
       "    </tr>\n",
       "    <tr>\n",
       "      <th>8966</th>\n",
       "      <td>0</td>\n",
       "      <td>48280</td>\n",
       "      <td>0.022037</td>\n",
       "    </tr>\n",
       "    <tr>\n",
       "      <th>8967</th>\n",
       "      <td>0</td>\n",
       "      <td>80336</td>\n",
       "      <td>0.213259</td>\n",
       "    </tr>\n",
       "    <tr>\n",
       "      <th>8968</th>\n",
       "      <td>0</td>\n",
       "      <td>46078</td>\n",
       "      <td>0.048029</td>\n",
       "    </tr>\n",
       "    <tr>\n",
       "      <th>8969</th>\n",
       "      <td>0</td>\n",
       "      <td>55161</td>\n",
       "      <td>0.050390</td>\n",
       "    </tr>\n",
       "    <tr>\n",
       "      <th>8970</th>\n",
       "      <td>0</td>\n",
       "      <td>82046</td>\n",
       "      <td>0.003693</td>\n",
       "    </tr>\n",
       "    <tr>\n",
       "      <th>8971</th>\n",
       "      <td>0</td>\n",
       "      <td>54364</td>\n",
       "      <td>0.007832</td>\n",
       "    </tr>\n",
       "    <tr>\n",
       "      <th>8972</th>\n",
       "      <td>0</td>\n",
       "      <td>21964</td>\n",
       "      <td>0.137985</td>\n",
       "    </tr>\n",
       "    <tr>\n",
       "      <th>8973</th>\n",
       "      <td>0</td>\n",
       "      <td>67263</td>\n",
       "      <td>0.027750</td>\n",
       "    </tr>\n",
       "    <tr>\n",
       "      <th>8974</th>\n",
       "      <td>0</td>\n",
       "      <td>61765</td>\n",
       "      <td>0.153662</td>\n",
       "    </tr>\n",
       "    <tr>\n",
       "      <th>8975</th>\n",
       "      <td>0</td>\n",
       "      <td>68349</td>\n",
       "      <td>0.015921</td>\n",
       "    </tr>\n",
       "    <tr>\n",
       "      <th>8976</th>\n",
       "      <td>0</td>\n",
       "      <td>18818</td>\n",
       "      <td>0.063598</td>\n",
       "    </tr>\n",
       "    <tr>\n",
       "      <th>8977</th>\n",
       "      <td>0</td>\n",
       "      <td>4713</td>\n",
       "      <td>0.153662</td>\n",
       "    </tr>\n",
       "    <tr>\n",
       "      <th>8978</th>\n",
       "      <td>0</td>\n",
       "      <td>15321</td>\n",
       "      <td>0.106479</td>\n",
       "    </tr>\n",
       "    <tr>\n",
       "      <th>8979</th>\n",
       "      <td>0</td>\n",
       "      <td>39139</td>\n",
       "      <td>0.025568</td>\n",
       "    </tr>\n",
       "    <tr>\n",
       "      <th>8980</th>\n",
       "      <td>0</td>\n",
       "      <td>37046</td>\n",
       "      <td>0.153662</td>\n",
       "    </tr>\n",
       "    <tr>\n",
       "      <th>8981</th>\n",
       "      <td>0</td>\n",
       "      <td>94092</td>\n",
       "      <td>0.015308</td>\n",
       "    </tr>\n",
       "    <tr>\n",
       "      <th>8982</th>\n",
       "      <td>0</td>\n",
       "      <td>42974</td>\n",
       "      <td>0.018734</td>\n",
       "    </tr>\n",
       "    <tr>\n",
       "      <th>8983</th>\n",
       "      <td>0</td>\n",
       "      <td>12285</td>\n",
       "      <td>0.067175</td>\n",
       "    </tr>\n",
       "    <tr>\n",
       "      <th>8984</th>\n",
       "      <td>0</td>\n",
       "      <td>97139</td>\n",
       "      <td>0.153662</td>\n",
       "    </tr>\n",
       "    <tr>\n",
       "      <th>8985</th>\n",
       "      <td>0</td>\n",
       "      <td>92491</td>\n",
       "      <td>0.040134</td>\n",
       "    </tr>\n",
       "  </tbody>\n",
       "</table>\n",
       "<p>8986 rows × 3 columns</p>\n",
       "</div>"
      ],
      "text/plain": [
       "      CHURN_IND  Customer_ID         1\n",
       "0             0        48388  0.122061\n",
       "1             0        29754  0.035259\n",
       "2             0        50131  0.008411\n",
       "3             0        66630  0.051723\n",
       "4             0        91920  0.050390\n",
       "5             0        57023  0.040820\n",
       "6             0         3388  0.025568\n",
       "7             0        48874  0.018238\n",
       "8             0        34480  0.007028\n",
       "9             0        63686  0.001360\n",
       "10            0        65754  0.147898\n",
       "11            0        54763  0.173180\n",
       "12            1        88894  0.153662\n",
       "13            0        48107  0.153662\n",
       "14            0        80666  0.033413\n",
       "15            0        18343  0.019902\n",
       "16            1        62865  0.153662\n",
       "17            0        15111  0.195453\n",
       "18            0        10366  0.130273\n",
       "19            0        51708  0.006588\n",
       "20            0        74699  0.064878\n",
       "21            0        51561  0.158276\n",
       "22            0        32521  0.015340\n",
       "23            0         3196  0.008018\n",
       "24            0        79348  0.153662\n",
       "25            0        30626  0.011697\n",
       "26            1        35226  0.238658\n",
       "27            0        12290  0.014575\n",
       "28            0        88927  0.008018\n",
       "29            0        55051  0.042046\n",
       "...         ...          ...       ...\n",
       "8956          0        88773  0.113013\n",
       "8957          0        80544  0.006506\n",
       "8958          0         2238  0.001652\n",
       "8959          0        69988  0.013703\n",
       "8960          0        12490  0.059355\n",
       "8961          0        88636  0.118538\n",
       "8962          0        68187  0.051850\n",
       "8963          0        30890  0.068717\n",
       "8964          0        85297  0.010900\n",
       "8965          0        53258  0.027173\n",
       "8966          0        48280  0.022037\n",
       "8967          0        80336  0.213259\n",
       "8968          0        46078  0.048029\n",
       "8969          0        55161  0.050390\n",
       "8970          0        82046  0.003693\n",
       "8971          0        54364  0.007832\n",
       "8972          0        21964  0.137985\n",
       "8973          0        67263  0.027750\n",
       "8974          0        61765  0.153662\n",
       "8975          0        68349  0.015921\n",
       "8976          0        18818  0.063598\n",
       "8977          0         4713  0.153662\n",
       "8978          0        15321  0.106479\n",
       "8979          0        39139  0.025568\n",
       "8980          0        37046  0.153662\n",
       "8981          0        94092  0.015308\n",
       "8982          0        42974  0.018734\n",
       "8983          0        12285  0.067175\n",
       "8984          0        97139  0.153662\n",
       "8985          0        92491  0.040134\n",
       "\n",
       "[8986 rows x 3 columns]"
      ]
     },
     "execution_count": 129,
     "metadata": {},
     "output_type": "execute_result"
    }
   ],
   "source": [
    "y_pred_1.reset_index(drop=True, inplace=True)\n",
    "y_test_df.reset_index(drop=True, inplace=True)\n",
    "# Appending y_test_df and y_pred_1\n",
    "y_pred_final = pd.concat([y_test_df,y_pred_1],axis=1)\n",
    "y_pred_final"
   ]
  },
  {
   "cell_type": "code",
   "execution_count": 130,
   "metadata": {},
   "outputs": [
    {
     "name": "stderr",
     "output_type": "stream",
     "text": [
      "C:\\ProgramData\\Anaconda3\\lib\\site-packages\\ipykernel_launcher.py:2: FutureWarning: '.reindex_axis' is deprecated and will be removed in a future version. Use '.reindex' instead.\n",
      "  \n"
     ]
    }
   ],
   "source": [
    "y_pred_final= y_pred_final.rename(columns={ 1 : 'Churn_Prob','CHURN_IND':'Churn'})\n",
    "y_pred_final = y_pred_final.reindex_axis(['Customer_ID','Churn','Churn_Prob'], axis=1)"
   ]
  },
  {
   "cell_type": "code",
   "execution_count": 131,
   "metadata": {},
   "outputs": [
    {
     "data": {
      "text/html": [
       "<div>\n",
       "<style scoped>\n",
       "    .dataframe tbody tr th:only-of-type {\n",
       "        vertical-align: middle;\n",
       "    }\n",
       "\n",
       "    .dataframe tbody tr th {\n",
       "        vertical-align: top;\n",
       "    }\n",
       "\n",
       "    .dataframe thead th {\n",
       "        text-align: right;\n",
       "    }\n",
       "</style>\n",
       "<table border=\"1\" class=\"dataframe\">\n",
       "  <thead>\n",
       "    <tr style=\"text-align: right;\">\n",
       "      <th></th>\n",
       "      <th>Customer_ID</th>\n",
       "      <th>Churn</th>\n",
       "      <th>Churn_Prob</th>\n",
       "    </tr>\n",
       "  </thead>\n",
       "  <tbody>\n",
       "    <tr>\n",
       "      <th>0</th>\n",
       "      <td>48388</td>\n",
       "      <td>0</td>\n",
       "      <td>0.122061</td>\n",
       "    </tr>\n",
       "    <tr>\n",
       "      <th>1</th>\n",
       "      <td>29754</td>\n",
       "      <td>0</td>\n",
       "      <td>0.035259</td>\n",
       "    </tr>\n",
       "    <tr>\n",
       "      <th>2</th>\n",
       "      <td>50131</td>\n",
       "      <td>0</td>\n",
       "      <td>0.008411</td>\n",
       "    </tr>\n",
       "    <tr>\n",
       "      <th>3</th>\n",
       "      <td>66630</td>\n",
       "      <td>0</td>\n",
       "      <td>0.051723</td>\n",
       "    </tr>\n",
       "    <tr>\n",
       "      <th>4</th>\n",
       "      <td>91920</td>\n",
       "      <td>0</td>\n",
       "      <td>0.050390</td>\n",
       "    </tr>\n",
       "  </tbody>\n",
       "</table>\n",
       "</div>"
      ],
      "text/plain": [
       "   Customer_ID  Churn  Churn_Prob\n",
       "0        48388      0    0.122061\n",
       "1        29754      0    0.035259\n",
       "2        50131      0    0.008411\n",
       "3        66630      0    0.051723\n",
       "4        91920      0    0.050390"
      ]
     },
     "execution_count": 131,
     "metadata": {},
     "output_type": "execute_result"
    }
   ],
   "source": [
    "y_pred_final.head()"
   ]
  },
  {
   "cell_type": "code",
   "execution_count": 132,
   "metadata": {},
   "outputs": [],
   "source": [
    "y_pred_final['Churn_pred'] = y_pred_final.Churn_Prob.map( lambda x: 1 if x > 0.5 else 0)"
   ]
  },
  {
   "cell_type": "markdown",
   "metadata": {},
   "source": [
    "## Making predictions"
   ]
  },
  {
   "cell_type": "code",
   "execution_count": 133,
   "metadata": {},
   "outputs": [
    {
     "data": {
      "text/plain": [
       "array([[8258,   47],\n",
       "       [ 582,   99]], dtype=int64)"
      ]
     },
     "execution_count": 133,
     "metadata": {},
     "output_type": "execute_result"
    }
   ],
   "source": [
    "from sklearn import metrics\n",
    "confusion = metrics.confusion_matrix( y_pred_final.Churn, y_pred_final['Churn_pred'] )\n",
    "confusion"
   ]
  },
  {
   "cell_type": "code",
   "execution_count": 134,
   "metadata": {},
   "outputs": [
    {
     "data": {
      "text/plain": [
       "0.9300022256843979"
      ]
     },
     "execution_count": 134,
     "metadata": {},
     "output_type": "execute_result"
    }
   ],
   "source": [
    "#Let's check the overall accuracy.\n",
    "metrics.accuracy_score( y_pred_final['Churn'], y_pred_final['Churn_pred'] )"
   ]
  },
  {
   "cell_type": "code",
   "execution_count": 135,
   "metadata": {},
   "outputs": [
    {
     "data": {
      "text/plain": [
       "Index(['std_og_t2f_mou_8', 'std_ic_t2f_mou_8', 'ic_others_6', 'ic_others_8',\n",
       "       'total_rech_data_8', 'count_rech_3g_6', 'monthly_2g_8', 'monthly_3g_8',\n",
       "       'Frequency_recharge'],\n",
       "      dtype='object')"
      ]
     },
     "execution_count": 135,
     "metadata": {},
     "output_type": "execute_result"
    }
   ],
   "source": [
    "colsToTrainLogit"
   ]
  }
 ],
 "metadata": {
  "kernelspec": {
   "display_name": "Python 3",
   "language": "python",
   "name": "python3"
  },
  "language_info": {
   "codemirror_mode": {
    "name": "ipython",
    "version": 3
   },
   "file_extension": ".py",
   "mimetype": "text/x-python",
   "name": "python",
   "nbconvert_exporter": "python",
   "pygments_lexer": "ipython3",
   "version": "3.6.4"
  }
 },
 "nbformat": 4,
 "nbformat_minor": 2
}
